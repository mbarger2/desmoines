{
 "cells": [
  {
   "cell_type": "code",
   "execution_count": null,
   "id": "f4b190d0",
   "metadata": {},
   "outputs": [],
   "source": [
    "import pandas as pd\n",
    "import numpy as np\n",
    "import chunk\n",
    "import re\n",
    "from datetime import datetime\n",
    "\n",
    "#pd.set_option('display.max_columns',30)"
   ]
  },
  {
   "cell_type": "code",
   "execution_count": null,
   "id": "5add4277",
   "metadata": {},
   "outputs": [],
   "source": [
    "y12=pd.read_csv('C://Users//Owner//DA//Classwork//0 Activities//Final_Project//Final Cuts//desmoines//cleany12.csv')\n",
    "y13=pd.read_csv('C://Users//Owner//DA//Classwork//0 Activities//Final_Project//Final Cuts//desmoines//cleany13.csv')\n",
    "y14=pd.read_csv('C://Users//Owner//DA//Classwork//0 Activities//Final_Project//Final Cuts//desmoines//cleany14.csv')\n",
    "y15=pd.read_csv('C://Users//Owner//DA//Classwork//0 Activities//Final_Project//Final Cuts//desmoines//cleany15.csv')\n",
    "y16=pd.read_csv('C://Users//Owner//DA//Classwork//0 Activities//Final_Project//Final Cuts//desmoines//cleany16.csv')\n",
    "y17=pd.read_csv('C://Users//Owner//DA//Classwork//0 Activities//Final_Project//Final Cuts//desmoines//cleany17.csv')"
   ]
  },
  {
   "cell_type": "markdown",
   "id": "7b1b9e2e",
   "metadata": {},
   "source": [
    "# To do: clear the 10,10,10 in y12, evaluate the county/county# in y16, and the cat/catname in y17"
   ]
  },
  {
   "cell_type": "code",
   "execution_count": null,
   "id": "66c1b113",
   "metadata": {},
   "outputs": [],
   "source": []
  }
 ],
 "metadata": {
  "kernelspec": {
   "display_name": "Python 3 (ipykernel)",
   "language": "python",
   "name": "python3"
  },
  "language_info": {
   "codemirror_mode": {
    "name": "ipython",
    "version": 3
   },
   "file_extension": ".py",
   "mimetype": "text/x-python",
   "name": "python",
   "nbconvert_exporter": "python",
   "pygments_lexer": "ipython3",
   "version": "3.9.7"
  }
 },
 "nbformat": 4,
 "nbformat_minor": 5
}
