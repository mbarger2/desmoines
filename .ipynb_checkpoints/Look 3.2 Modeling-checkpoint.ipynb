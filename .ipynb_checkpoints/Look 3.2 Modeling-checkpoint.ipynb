{
 "cells": [
  {
   "cell_type": "code",
   "execution_count": null,
   "id": "4143ac6e",
   "metadata": {},
   "outputs": [],
   "source": [
    "import pandas as pd\n",
    "import numpy as np\n",
    "import chunk\n",
    "import re\n",
    "from datetime import datetime"
   ]
  },
  {
   "cell_type": "code",
   "execution_count": null,
   "id": "273f07b2",
   "metadata": {},
   "outputs": [],
   "source": [
    "#5th look on (consider making it all one file before being done)"
   ]
  },
  {
   "cell_type": "code",
   "execution_count": null,
   "id": "8e21dd50",
   "metadata": {},
   "outputs": [],
   "source": []
  },
  {
   "cell_type": "code",
   "execution_count": null,
   "id": "64629f3f",
   "metadata": {},
   "outputs": [],
   "source": []
  },
  {
   "cell_type": "code",
   "execution_count": null,
   "id": "05bd4f64",
   "metadata": {},
   "outputs": [],
   "source": []
  },
  {
   "cell_type": "code",
   "execution_count": null,
   "id": "fd375d8d",
   "metadata": {},
   "outputs": [],
   "source": []
  },
  {
   "cell_type": "code",
   "execution_count": null,
   "id": "74c03c95",
   "metadata": {},
   "outputs": [],
   "source": [
    "look 6 from here onward"
   ]
  },
  {
   "cell_type": "markdown",
   "id": "bc78f922",
   "metadata": {},
   "source": [
    "# Linear Regression"
   ]
  },
  {
   "cell_type": "code",
   "execution_count": null,
   "id": "d3ab34f8",
   "metadata": {},
   "outputs": [],
   "source": [
    "from sklearn.preprocessing import Normalizer\n",
    "transformer = Normalizer().fit(m12ogc)\n",
    "x_normalized = transformer.transform(m12ogc)\n",
    "print(x_normalized.shape)"
   ]
  },
  {
   "cell_type": "code",
   "execution_count": null,
   "id": "2126e3d4",
   "metadata": {},
   "outputs": [],
   "source": [
    "from sklearn.preprocessing import OneHotEncoder\n",
    "encoder = OneHotEncoder(handle_unknown='error').fit(m12d)\n",
    "encoded = encoder.transform(m12d).toarray()"
   ]
  },
  {
   "cell_type": "code",
   "execution_count": null,
   "id": "977a1d25",
   "metadata": {},
   "outputs": [],
   "source": [
    "encodeddf = pd.DataFrame(encoded)"
   ]
  },
  {
   "cell_type": "code",
   "execution_count": null,
   "id": "1bc889a9",
   "metadata": {},
   "outputs": [],
   "source": [
    "X = np.concatenate((x_normalized,encodeddf),axis=1)\n",
    "Y= m12T"
   ]
  },
  {
   "cell_type": "code",
   "execution_count": null,
   "id": "934f06fc",
   "metadata": {},
   "outputs": [],
   "source": [
    "from sklearn import linear_model\n",
    "from sklearn.metrics import mean_squared_error, r2_score\n",
    "from sklearn.model_selection import train_test_split"
   ]
  },
  {
   "cell_type": "code",
   "execution_count": null,
   "id": "6db9cac1",
   "metadata": {},
   "outputs": [],
   "source": [
    "x_train,x_test,y_train,y_test = train_test_split(X,Y,test_size=0.3,random_state=10000)"
   ]
  },
  {
   "cell_type": "code",
   "execution_count": null,
   "id": "3f197640",
   "metadata": {},
   "outputs": [],
   "source": [
    "lm = linear_model.LinearRegression()\n",
    "model = lm.fit(x_train,y_train)\n",
    "predictions  = lm.predict(x_test)\n",
    "r2_score(y_test, predictions)"
   ]
  },
  {
   "cell_type": "markdown",
   "id": "3d8e4832",
   "metadata": {},
   "source": [
    "### r2_score with log transformation:     0.03185955208560132\n",
    "### r2_score without log transformation:  0.028087925020839455"
   ]
  },
  {
   "cell_type": "code",
   "execution_count": null,
   "id": "a0c3786c",
   "metadata": {},
   "outputs": [],
   "source": [
    "# With log transformation\n",
    "plt.scatter(x=y_test,y=predictions)"
   ]
  },
  {
   "cell_type": "code",
   "execution_count": null,
   "id": "0274ddbe",
   "metadata": {},
   "outputs": [],
   "source": [
    "#without log transformation\n",
    "plt.scatter(x=y_test,y=predictions)"
   ]
  },
  {
   "cell_type": "markdown",
   "id": "d09b80b1",
   "metadata": {},
   "source": [
    "# KNeighbors Regressor"
   ]
  },
  {
   "cell_type": "code",
   "execution_count": null,
   "id": "2f9ceb56",
   "metadata": {},
   "outputs": [],
   "source": [
    "model = KNeighborsRegressor(n_neighbors=3)\n",
    "model.fit(x_train,y_train)\n",
    "predictions  = model.predict(x_test)\n",
    "score = model.score(x_test,y_test)\n",
    "lm = linear_model.LinearRegression()\n",
    "model1 = lm.fit(x_train,y_train)\n",
    "r2_score(y_test, predictions)"
   ]
  },
  {
   "cell_type": "markdown",
   "id": "62e1ad43",
   "metadata": {},
   "source": [
    "## n_neighbors count accuracy: \n",
    "### 2:   0.021021668237591218\n",
    "### 3:   0.03710902186072107\n",
    "### 4:   0.03388681650020786\n",
    "### 5:   0.03337706848563726\n",
    "### 6:   0.03317562871899604\n",
    "### 7:   0.028337390416451225\n",
    "### 10: -0.16765101206296174"
   ]
  },
  {
   "cell_type": "markdown",
   "id": "32f9df60",
   "metadata": {},
   "source": [
    "#  Random Forest"
   ]
  },
  {
   "cell_type": "code",
   "execution_count": null,
   "id": "9e736e33",
   "metadata": {},
   "outputs": [],
   "source": [
    "regr = RandomForestRegressor(n_estimators=100, random_state=0)\n",
    "regr.fit(x_train, y_train)\n",
    "print(regr.predict(x_test))"
   ]
  },
  {
   "cell_type": "code",
   "execution_count": null,
   "id": "069ee880",
   "metadata": {},
   "outputs": [],
   "source": [
    "regr.score(x_test,y_test, sample_weight=None)"
   ]
  },
  {
   "cell_type": "markdown",
   "id": "ef75079a",
   "metadata": {},
   "source": [
    "## n_estimators accuracy\n",
    "### 50:  0.042636722717288134\n",
    "### 90:  0.04265824954418418\n",
    "### 100: 0.042667083712491616\n",
    "### 150: 0.04265332770337327\n",
    "### 200: 0.0426598189600198\n",
    "### 500: 0.0426488324527311\n"
   ]
  },
  {
   "cell_type": "markdown",
   "id": "ee6b7ddf",
   "metadata": {},
   "source": [
    "# Basic Math"
   ]
  },
  {
   "cell_type": "code",
   "execution_count": null,
   "id": "89aca581",
   "metadata": {},
   "outputs": [],
   "source": [
    "m12tester=m12merge.groupby(['Store Number']).agg({'Cost Total':['sum']})\n",
    "m12tester.reset_index(inplace=True)\n",
    "m12tester.columns=['Store','Total Bottle Cost']\n",
    "m12tester.sort_values('Total Bottle Cost')\n",
    "m12tester.describe()"
   ]
  },
  {
   "cell_type": "markdown",
   "id": "f0005118",
   "metadata": {},
   "source": [
    "# Simple statistics suggest  82,000 dollars as a median material cost value, with 175,000 dollars covering 75% of the competition in the area"
   ]
  },
  {
   "cell_type": "code",
   "execution_count": null,
   "id": "c9434fb9",
   "metadata": {},
   "outputs": [],
   "source": []
  },
  {
   "cell_type": "markdown",
   "id": "1c5ead61",
   "metadata": {},
   "source": [
    "# CHECK THE REST OF PART 6 FOR NECESSITY: will need at least SOME"
   ]
  },
  {
   "cell_type": "code",
   "execution_count": null,
   "id": "145b616b",
   "metadata": {},
   "outputs": [],
   "source": []
  }
 ],
 "metadata": {
  "kernelspec": {
   "display_name": "Python 3 (ipykernel)",
   "language": "python",
   "name": "python3"
  },
  "language_info": {
   "codemirror_mode": {
    "name": "ipython",
    "version": 3
   },
   "file_extension": ".py",
   "mimetype": "text/x-python",
   "name": "python",
   "nbconvert_exporter": "python",
   "pygments_lexer": "ipython3",
   "version": "3.9.7"
  }
 },
 "nbformat": 4,
 "nbformat_minor": 5
}
