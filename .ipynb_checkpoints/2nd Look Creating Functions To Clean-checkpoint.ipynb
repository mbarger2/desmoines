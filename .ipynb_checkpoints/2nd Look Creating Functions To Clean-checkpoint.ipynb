{
 "cells": [
  {
   "cell_type": "code",
   "execution_count": null,
   "id": "7e4d52b7",
   "metadata": {},
   "outputs": [],
   "source": [
    "#concatenating data from Store Number and Address columns\n",
    "#dropping all nan values from Address (there are no nons in the Store Number column)\n",
    "#dropping all duplicate store number values \n",
    "#exporting to a file for easy future reference"
   ]
  },
  {
   "cell_type": "code",
   "execution_count": 2,
   "id": "29249852",
   "metadata": {},
   "outputs": [],
   "source": [
    "import pandas as pd\n",
    "import numpy as np\n",
    "import chunk\n",
    "import re\n",
    "from datetime import datetime\n",
    "\n",
    "#pd.set_option('display.max_columns',30)"
   ]
  },
  {
   "cell_type": "markdown",
   "id": "3376651a",
   "metadata": {},
   "source": [
    "### 1. Upload 1st Look\n",
    "### 2. Walkthrough\n",
    "### 3. Condensed version of data cleaning code\n",
    "### 4. Trimming clean code"
   ]
  },
  {
   "cell_type": "markdown",
   "id": "136a210a",
   "metadata": {},
   "source": [
    "## 1. Upload work from 1st Look "
   ]
  },
  {
   "cell_type": "code",
   "execution_count": 4,
   "id": "dd75748b",
   "metadata": {},
   "outputs": [
    {
     "name": "stderr",
     "output_type": "stream",
     "text": [
      "C:\\Users\\Owner\\anaconda3\\lib\\site-packages\\IPython\\core\\interactiveshell.py:3444: DtypeWarning: Columns (7) have mixed types.Specify dtype option on import or set low_memory=False.\n",
      "  exec(code_obj, self.user_global_ns, self.user_ns)\n"
     ]
    }
   ],
   "source": [
    "y12=pd.read_csv('C://Users//Owner//DA//Classwork//0 Activities//Final_Project//Final Cuts//desmoines//year2012.csv')\n",
    "y13=pd.read_csv('C://Users//Owner//DA//Classwork//0 Activities//Final_Project//Final Cuts//desmoines//year2013.csv')\n",
    "y14=pd.read_csv('C://Users//Owner//DA//Classwork//0 Activities//Final_Project//Final Cuts//desmoines//year2014.csv')\n",
    "y15=pd.read_csv('C://Users//Owner//DA//Classwork//0 Activities//Final_Project//Final Cuts//desmoines//year2015.csv')\n",
    "y16=pd.read_csv('C://Users//Owner//DA//Classwork//0 Activities//Final_Project//Final Cuts//desmoines//year2016.csv')\n",
    "y17=pd.read_csv('C://Users//Owner//DA//Classwork//0 Activities//Final_Project//Final Cuts//desmoines//year2017.csv')"
   ]
  },
  {
   "cell_type": "code",
   "execution_count": 7,
   "id": "9e95b2f9",
   "metadata": {},
   "outputs": [
    {
     "name": "stdout",
     "output_type": "stream",
     "text": [
      "Unnamed: 0                  0\n",
      "Invoice/Item Number         0\n",
      "Date                        0\n",
      "Store Number                0\n",
      "Store Name                  0\n",
      "Address                     0\n",
      "City                        0\n",
      "Zip Code                    0\n",
      "Store Location              0\n",
      "County Number            3599\n",
      "County                   3599\n",
      "Category                  284\n",
      "Category Name             822\n",
      "Vendor Number               0\n",
      "Vendor Name                 0\n",
      "Item Number                 0\n",
      "Item Description            0\n",
      "Pack                        0\n",
      "Bottle Volume (ml)          0\n",
      "State Bottle Cost          10\n",
      "State Bottle Retail        10\n",
      "Bottles Sold                0\n",
      "Sale (Dollars)             10\n",
      "Volume Sold (Liters)        0\n",
      "Volume Sold (Gallons)       0\n",
      "Year                        0\n",
      "dtype: int64\n",
      "Unnamed: 0                  0\n",
      "Invoice/Item Number         0\n",
      "Date                        0\n",
      "Store Number                0\n",
      "Store Name                  0\n",
      "Address                     0\n",
      "City                        0\n",
      "Zip Code                    0\n",
      "Store Location              0\n",
      "County Number            2660\n",
      "County                   2660\n",
      "Category                  298\n",
      "Category Name             810\n",
      "Vendor Number               0\n",
      "Vendor Name                 0\n",
      "Item Number                 0\n",
      "Item Description            0\n",
      "Pack                        0\n",
      "Bottle Volume (ml)          0\n",
      "State Bottle Cost           0\n",
      "State Bottle Retail         0\n",
      "Bottles Sold                0\n",
      "Sale (Dollars)              0\n",
      "Volume Sold (Liters)        0\n",
      "Volume Sold (Gallons)       0\n",
      "Year                        0\n",
      "dtype: int64\n",
      "Unnamed: 0                  0\n",
      "Invoice/Item Number         0\n",
      "Date                        0\n",
      "Store Number                0\n",
      "Store Name                  0\n",
      "Address                     0\n",
      "City                        0\n",
      "Zip Code                    0\n",
      "Store Location              0\n",
      "County Number            1054\n",
      "County                   1054\n",
      "Category                  480\n",
      "Category Name            1057\n",
      "Vendor Number               0\n",
      "Vendor Name                 0\n",
      "Item Number                 0\n",
      "Item Description            0\n",
      "Pack                        0\n",
      "Bottle Volume (ml)          0\n",
      "State Bottle Cost           0\n",
      "State Bottle Retail         0\n",
      "Bottles Sold                0\n",
      "Sale (Dollars)              0\n",
      "Volume Sold (Liters)        0\n",
      "Volume Sold (Gallons)       0\n",
      "Year                        0\n",
      "dtype: int64\n",
      "Unnamed: 0                  0\n",
      "Invoice/Item Number         0\n",
      "Date                        0\n",
      "Store Number                0\n",
      "Store Name                  0\n",
      "Address                     0\n",
      "City                        0\n",
      "Zip Code                    0\n",
      "Store Location              0\n",
      "County Number            1119\n",
      "County                   1119\n",
      "Category                  773\n",
      "Category Name            1462\n",
      "Vendor Number               0\n",
      "Vendor Name                 0\n",
      "Item Number                 0\n",
      "Item Description            0\n",
      "Pack                        0\n",
      "Bottle Volume (ml)          0\n",
      "State Bottle Cost           0\n",
      "State Bottle Retail         0\n",
      "Bottles Sold                0\n",
      "Sale (Dollars)              0\n",
      "Volume Sold (Liters)        0\n",
      "Volume Sold (Gallons)       0\n",
      "Year                        0\n",
      "dtype: int64\n",
      "Unnamed: 0                   0\n",
      "Invoice/Item Number          0\n",
      "Date                         0\n",
      "Store Number                 0\n",
      "Store Name                   0\n",
      "Address                    965\n",
      "City                       965\n",
      "Zip Code                  1010\n",
      "Store Location             965\n",
      "County Number            69336\n",
      "County                   69336\n",
      "Category                   350\n",
      "Category Name             6100\n",
      "Vendor Number                2\n",
      "Vendor Name                  0\n",
      "Item Number                  0\n",
      "Item Description             0\n",
      "Pack                         0\n",
      "Bottle Volume (ml)           0\n",
      "State Bottle Cost            0\n",
      "State Bottle Retail          0\n",
      "Bottles Sold                 0\n",
      "Sale (Dollars)               0\n",
      "Volume Sold (Liters)         0\n",
      "Volume Sold (Gallons)        0\n",
      "Year                         0\n",
      "dtype: int64\n",
      "Unnamed: 0                  0\n",
      "Invoice/Item Number         0\n",
      "Date                        0\n",
      "Store Number                0\n",
      "Store Name                  0\n",
      "Address                  1411\n",
      "City                     1410\n",
      "Zip Code                 1410\n",
      "Store Location           1410\n",
      "County Number            1410\n",
      "County                   1410\n",
      "Category                 5835\n",
      "Category Name            5835\n",
      "Vendor Number               1\n",
      "Vendor Name                 1\n",
      "Item Number                 0\n",
      "Item Description            0\n",
      "Pack                        0\n",
      "Bottle Volume (ml)          0\n",
      "State Bottle Cost           0\n",
      "State Bottle Retail         0\n",
      "Bottles Sold                0\n",
      "Sale (Dollars)              0\n",
      "Volume Sold (Liters)        0\n",
      "Volume Sold (Gallons)       0\n",
      "Year                        0\n",
      "dtype: int64\n"
     ]
    }
   ],
   "source": [
    "# How many nan values exist in raw data?\n",
    "listof6 = (y12,y13,y14,y15,y16,y17)\n",
    "for i in listof6:\n",
    "    print(i.isna().sum())"
   ]
  },
  {
   "cell_type": "code",
   "execution_count": 12,
   "id": "0a1dab15",
   "metadata": {},
   "outputs": [],
   "source": [
    "y12.to_csv('cleany12.csv')\n",
    "y13.to_csv('cleany13.csv')\n",
    "y14.to_csv('cleany14.csv')\n",
    "y15.to_csv('cleany15.csv')\n",
    "y16.to_csv('cleany16.csv')\n",
    "y17.to_csv('cleany17.csv')"
   ]
  },
  {
   "cell_type": "code",
   "execution_count": 44,
   "id": "425d3e0c",
   "metadata": {},
   "outputs": [],
   "source": [
    "#dummy dataframe to test functions\n",
    "ytest17=y17"
   ]
  },
  {
   "cell_type": "markdown",
   "id": "cbff2f19",
   "metadata": {},
   "source": [
    "## Walkthrough of Reducing Nan Values"
   ]
  },
  {
   "cell_type": "markdown",
   "id": "b1e544eb",
   "metadata": {},
   "source": [
    "### For each column with nan values, I am concatenating 2 columns (1 being the target column with nan values, the other being a column with directly correlated data) across all 6 datasubsets to create a dataset for just the 2 columns by which a dictionary for each pair can be made to compare the full datasethat the rows with nan values can be run through, compared to, and hopefully filled in by.\n",
    "### This assumes a 1:1 ratio between the two rows for accurate cleaning."
   ]
  },
  {
   "cell_type": "markdown",
   "id": "7ff65c1e",
   "metadata": {},
   "source": [
    "### Address"
   ]
  },
  {
   "cell_type": "code",
   "execution_count": null,
   "id": "ca686b8d",
   "metadata": {},
   "outputs": [],
   "source": [
    "#concatenating data from Store Number and Address columns\n",
    "sall=pd.concat([y17[['Store Number','Address']],y16[['Store Number','Address']],y15[['Store Number','Address']],y14[['Store Number','Address']],y13[['Store Number','Address']],y12[['Store Number','Address']]])\n",
    "#dropping all nan values from Address (there are no nons in the Store Number column)\n",
    "sall=sall[sall['Address'].notna()]\n",
    "#dropping all duplicate store number values \n",
    "sall.drop_duplicates(subset=['Store Number'],inplace=True)\n",
    "#exporting to a file for easy future reference\n",
    "sall.to_csv('storenumaddress.csv')"
   ]
  },
  {
   "cell_type": "code",
   "execution_count": 40,
   "id": "eedc8a6c",
   "metadata": {},
   "outputs": [],
   "source": [
    "salldict={}\n",
    "for i in sall['Store Number']:\n",
    "    salldict[i]=sall[sall['Store Number']==i]['Address'].values[0]"
   ]
  },
  {
   "cell_type": "code",
   "execution_count": 8,
   "id": "f9a272b4",
   "metadata": {},
   "outputs": [],
   "source": [
    "#export to file if desired for future use\n",
    "salldict.to_csv('allstoredict.csv')"
   ]
  },
  {
   "cell_type": "code",
   "execution_count": 47,
   "id": "69d31d57",
   "metadata": {},
   "outputs": [],
   "source": [
    "# Using the created dictionary, I created a function that checks a row for nan values and attempts to replace them\n",
    "def get_address(x,y):\n",
    "    storelist=list(salldict.keys())\n",
    "    if (pd.isna(x)) & (y in storelist):\n",
    "        return salldict[y]\n",
    "    else:\n",
    "        return x"
   ]
  },
  {
   "cell_type": "code",
   "execution_count": 241,
   "id": "e2a2dc21",
   "metadata": {},
   "outputs": [],
   "source": [
    "#using the map function, I apply the function across all rows to clean the Store Location column across the entire datasubset\n",
    "#this is an example of how that is done, the full application is done later in the file\n",
    "ytest17['Address']=list(map(get_address,ytest17['Address'],ytest17['Store Number']))"
   ]
  },
  {
   "cell_type": "markdown",
   "id": "0d6d9555",
   "metadata": {},
   "source": [
    "### Store Location"
   ]
  },
  {
   "cell_type": "code",
   "execution_count": 181,
   "id": "b3e600f8",
   "metadata": {},
   "outputs": [],
   "source": [
    "slall=pd.concat([y17[['Store Number','Store Location']],y16[['Store Number','Store Location']],y15[['Store Number','Store Location']],y14[['Store Number','Store Location']],y13[['Store Number','Store Location']],y12[['Store Number','Store Location']]])\n",
    "slall=slall[slall['Store Location'].notna()]\n",
    "slall.drop_duplicates(subset=['Store Number'],inplace=True)\n",
    "slall.to_csv('storenumlocation.csv')"
   ]
  },
  {
   "cell_type": "code",
   "execution_count": 185,
   "id": "1a12f6c2",
   "metadata": {},
   "outputs": [],
   "source": [
    "\n",
    "slalldict={}\n",
    "for i in slall['Store Number']:\n",
    "    slalldict[i]=slall[slall['Store Number']==i]['Store Location'].values[0]"
   ]
  },
  {
   "cell_type": "code",
   "execution_count": 186,
   "id": "fac4ca50",
   "metadata": {},
   "outputs": [],
   "source": [
    "# Using the created dictionary, I created a function that checks a row for nan values and attempts to replace them\n",
    "def get_store_location(x,y):\n",
    "    storelist=list(slalldict.keys())\n",
    "    if (pd.isna(x)) & (y in storelist):\n",
    "        return slalldict[y]\n",
    "    else:\n",
    "        return x"
   ]
  },
  {
   "cell_type": "code",
   "execution_count": 196,
   "id": "ae701da8",
   "metadata": {},
   "outputs": [],
   "source": [
    "#this is an example of how that is done, the full application is done later in the file\n",
    "ytest17['Store Location']=list(map(get_store_location,ytest17['Store Location'],ytest17['Store Number']))"
   ]
  },
  {
   "cell_type": "markdown",
   "id": "1f1d2d25",
   "metadata": {},
   "source": [
    "### Zip Code"
   ]
  },
  {
   "cell_type": "code",
   "execution_count": 129,
   "id": "50b369a1",
   "metadata": {},
   "outputs": [],
   "source": [
    "zipna=pd.concat([y17[['Store Number','Zip Code']],y16[['Store Number','Zip Code']],y15[['Store Number','Zip Code']],y14[['Store Number','Zip Code']],y13[['Store Number','Zip Code']],y12[['Store Number','Zip Code']]])\n",
    "zipna=zipna[zipna['Zip Code'].notna()]\n",
    "zipna.drop_duplicates(subset=['Store Number'],inplace=True)\n",
    "zipna.to_csv('storenumzip.csv')"
   ]
  },
  {
   "cell_type": "code",
   "execution_count": 132,
   "id": "463cad72",
   "metadata": {},
   "outputs": [
    {
     "data": {
      "text/plain": [
       "1884"
      ]
     },
     "execution_count": 132,
     "metadata": {},
     "output_type": "execute_result"
    }
   ],
   "source": [
    "len(zipna)"
   ]
  },
  {
   "cell_type": "code",
   "execution_count": 133,
   "id": "e8c849ca",
   "metadata": {},
   "outputs": [],
   "source": [
    "zipdict={}\n",
    "for i in zipna['Store Number']:\n",
    "    zipdict[i]=zipna[zipna['Store Number']==i]['Zip Code'].values[0]"
   ]
  },
  {
   "cell_type": "code",
   "execution_count": 134,
   "id": "a63255b0",
   "metadata": {},
   "outputs": [],
   "source": [
    "def get_zip(x,y):\n",
    "    storelist=list(zipdict.keys())\n",
    "    if (pd.isna(x)) and (y in storelist):\n",
    "        return zipdict[y]\n",
    "    else:\n",
    "        return x"
   ]
  },
  {
   "cell_type": "code",
   "execution_count": null,
   "id": "5fab145f",
   "metadata": {},
   "outputs": [],
   "source": [
    "#this is an example of how that is done, the full application is done later in the file\n",
    "ytest17['Zip Code']=list(map(get_zip,ytest17['Zip Code'],ytest17['Store Number']))"
   ]
  },
  {
   "cell_type": "markdown",
   "id": "8a5d1857",
   "metadata": {},
   "source": [
    "### County"
   ]
  },
  {
   "cell_type": "code",
   "execution_count": 136,
   "id": "ea34ea66",
   "metadata": {},
   "outputs": [],
   "source": [
    "countyna=pd.concat([y17[['Store Number','County']],y16[['Store Number','County']],y15[['Store Number','County']],y14[['Store Number','County']],y13[['Store Number','County']],y12[['Store Number','County']]])\n",
    "countyna=countyna[countyna['County'].notna()]\n",
    "countyna.drop_duplicates(subset=['Store Number'],inplace=True)\n",
    "countyna.to_csv('storenumcounty.csv')"
   ]
  },
  {
   "cell_type": "code",
   "execution_count": 139,
   "id": "b2816637",
   "metadata": {},
   "outputs": [
    {
     "data": {
      "text/plain": [
       "1883"
      ]
     },
     "execution_count": 139,
     "metadata": {},
     "output_type": "execute_result"
    }
   ],
   "source": [
    "len(countyna)"
   ]
  },
  {
   "cell_type": "code",
   "execution_count": 465,
   "id": "2916626d",
   "metadata": {},
   "outputs": [
    {
     "data": {
      "text/plain": [
       "array(['CERRO GORD'], dtype=object)"
      ]
     },
     "execution_count": 465,
     "metadata": {},
     "output_type": "execute_result"
    }
   ],
   "source": [
    "ytest17[ytest17['City']=='Mason City']['County'].unique()"
   ]
  },
  {
   "cell_type": "code",
   "execution_count": 466,
   "id": "6f1623ff",
   "metadata": {},
   "outputs": [
    {
     "data": {
      "text/plain": [
       "27745"
      ]
     },
     "execution_count": 466,
     "metadata": {},
     "output_type": "execute_result"
    }
   ],
   "source": [
    "len(ytest17[ytest17['County']=='CERRO GORD'])"
   ]
  },
  {
   "cell_type": "code",
   "execution_count": 140,
   "id": "141d2e9a",
   "metadata": {},
   "outputs": [],
   "source": [
    "countydict={}\n",
    "for i in countyna['Store Number']:\n",
    "    countydict[i]=countyna[countyna['Store Number']==i]['County'].values[0]"
   ]
  },
  {
   "cell_type": "code",
   "execution_count": 141,
   "id": "944601ae",
   "metadata": {},
   "outputs": [],
   "source": [
    "def get_county(x,y):\n",
    "    storelist=list(countydict.keys())\n",
    "    if (pd.isna(x)) and (y in storelist):\n",
    "        return countydict[y]\n",
    "    else:\n",
    "        return x"
   ]
  },
  {
   "cell_type": "code",
   "execution_count": null,
   "id": "61dc4cac",
   "metadata": {},
   "outputs": [],
   "source": [
    "#this is an example of how that is done, the full application is done later in the file\n",
    "ytest17['County']=list(map(get_county,ytest17['County'],ytest17['Store Number']))"
   ]
  },
  {
   "cell_type": "markdown",
   "id": "c2a48ac1",
   "metadata": {},
   "source": [
    "### County Number"
   ]
  },
  {
   "cell_type": "code",
   "execution_count": 150,
   "id": "3fc5a95f",
   "metadata": {},
   "outputs": [],
   "source": [
    "countynumna=pd.concat([y17[['Store Number','County Number']],y16[['Store Number','County Number']],y15[['Store Number','County Number']],y14[['Store Number','County Number']],y13[['Store Number','County Number']],y12[['Store Number','County Number']]])\n",
    "countynumna=countynumna[countynumna['County Number'].notna()]\n",
    "countynumna.drop_duplicates(subset=['Store Number'],inplace=True)\n",
    "countynumna.to_csv('storenumcountynum.csv')"
   ]
  },
  {
   "cell_type": "code",
   "execution_count": 153,
   "id": "9cb1d2df",
   "metadata": {},
   "outputs": [
    {
     "data": {
      "text/plain": [
       "1883"
      ]
     },
     "execution_count": 153,
     "metadata": {},
     "output_type": "execute_result"
    }
   ],
   "source": [
    "len(countynumna)"
   ]
  },
  {
   "cell_type": "code",
   "execution_count": 154,
   "id": "c019bd16",
   "metadata": {},
   "outputs": [],
   "source": [
    "countynumdict={}\n",
    "for i in countynumna['Store Number']:\n",
    "    countynumdict[i]=countynumna[countynumna['Store Number']==i]['County Number'].values[0]"
   ]
  },
  {
   "cell_type": "code",
   "execution_count": 155,
   "id": "ed4a897f",
   "metadata": {},
   "outputs": [],
   "source": [
    "def get_county_number(x,y):\n",
    "    storelist=list(countynumdict.keys())\n",
    "    if (pd.isna(x)) and (y in storelist):\n",
    "        return countynumdict[y]\n",
    "    else:\n",
    "        return x"
   ]
  },
  {
   "cell_type": "code",
   "execution_count": null,
   "id": "28dbf693",
   "metadata": {},
   "outputs": [],
   "source": [
    "#this is an example of how that is done, the full application is done later in the file\n",
    "ytest17['County Number']=list(map(get_county_number,ytest17['County Number'],ytest17['Store Number']))"
   ]
  },
  {
   "cell_type": "markdown",
   "id": "fe6dcf09",
   "metadata": {},
   "source": [
    "### City"
   ]
  },
  {
   "cell_type": "code",
   "execution_count": 157,
   "id": "42d3bb2c",
   "metadata": {},
   "outputs": [],
   "source": [
    "cityna=pd.concat([y17[['Store Number','City']],y16[['Store Number','City']],y15[['Store Number','City']],y14[['Store Number','City']],y13[['Store Number','City']],y12[['Store Number','City']]])\n",
    "cityna=cityna[cityna['City'].notna()]\n",
    "cityna.drop_duplicates(subset=['Store Number'],inplace=True)\n",
    "cityna.to_csv('storenumcity.csv')"
   ]
  },
  {
   "cell_type": "code",
   "execution_count": 160,
   "id": "20ea5cce",
   "metadata": {},
   "outputs": [
    {
     "data": {
      "text/plain": [
       "1884"
      ]
     },
     "execution_count": 160,
     "metadata": {},
     "output_type": "execute_result"
    }
   ],
   "source": [
    "len(cityna)"
   ]
  },
  {
   "cell_type": "code",
   "execution_count": 161,
   "id": "83b2f9ab",
   "metadata": {},
   "outputs": [],
   "source": [
    "citydict={}\n",
    "for i in cityna['Store Number']:\n",
    "    citydict[i]=cityna[cityna['Store Number']==i]['City'].values[0]"
   ]
  },
  {
   "cell_type": "code",
   "execution_count": 162,
   "id": "7440cf98",
   "metadata": {},
   "outputs": [],
   "source": [
    "def get_city(x,y):\n",
    "    storelist=list(citydict.keys())\n",
    "    if (pd.isna(x)) and (y in storelist):\n",
    "        return citydict[y]\n",
    "    else:\n",
    "        return x"
   ]
  },
  {
   "cell_type": "code",
   "execution_count": null,
   "id": "32b7ddb5",
   "metadata": {},
   "outputs": [],
   "source": [
    "#this is an example of how that is done, the full application is done later in the file\n",
    "ytest17['City']=list(map(get_city,ytest17['City'],ytest17['Store Number']))"
   ]
  },
  {
   "cell_type": "markdown",
   "id": "712de852",
   "metadata": {},
   "source": [
    "### Category "
   ]
  },
  {
   "cell_type": "code",
   "execution_count": 328,
   "id": "d657bc94",
   "metadata": {},
   "outputs": [],
   "source": [
    "catna=pd.concat([y17[['Item Description','Category']],y16[['Item Description','Category']],y15[['Item Description','Category']],y14[['Item Description','Category']],y13[['Item Description','Category']],y12[['Item Description','Category']]])\n",
    "catna=catna[catna['Category'].notna()]\n",
    "catna.drop_duplicates(subset=['Item Description'],inplace=True)\n",
    "catna.to_csv('idcategory.csv')"
   ]
  },
  {
   "cell_type": "code",
   "execution_count": 332,
   "id": "35d8ec40",
   "metadata": {},
   "outputs": [
    {
     "data": {
      "text/plain": [
       "5795"
      ]
     },
     "execution_count": 332,
     "metadata": {},
     "output_type": "execute_result"
    }
   ],
   "source": [
    "len(catna)"
   ]
  },
  {
   "cell_type": "code",
   "execution_count": 333,
   "id": "1d68423e",
   "metadata": {},
   "outputs": [],
   "source": [
    "catdict={}\n",
    "for i in catna['Item Description']:\n",
    "    catdict[i]=catna[catna['Item Description']==i]['Category'].values[0]"
   ]
  },
  {
   "cell_type": "code",
   "execution_count": 334,
   "id": "1e547f12",
   "metadata": {},
   "outputs": [],
   "source": [
    "def get_category(x,y):\n",
    "    storelist=list(catdict.keys())\n",
    "    if (pd.isna(x)) and (y in storelist):\n",
    "        return catdict[y]\n",
    "    else:\n",
    "        return x"
   ]
  },
  {
   "cell_type": "code",
   "execution_count": 335,
   "id": "70ee4a3d",
   "metadata": {},
   "outputs": [],
   "source": [
    "#this is an example of how that is done, the full application is done later in the file\n",
    "ytest17['Category']=list(map(get_category,ytest17['Category'],ytest17['Item Description']))"
   ]
  },
  {
   "cell_type": "code",
   "execution_count": 336,
   "id": "00750a8d",
   "metadata": {},
   "outputs": [
    {
     "data": {
      "text/plain": [
       "827"
      ]
     },
     "execution_count": 336,
     "metadata": {},
     "output_type": "execute_result"
    }
   ],
   "source": [
    "ytest17['Category'].isna().sum()"
   ]
  },
  {
   "cell_type": "code",
   "execution_count": 337,
   "id": "d7466ce5",
   "metadata": {},
   "outputs": [
    {
     "data": {
      "text/plain": [
       "array([\"Galliano L'Autentico\", 'Bains Cape Mountain Whiskey',\n",
       "       'Don Pancho Origenes 8YR Rum', 'Barbados Rum 100ml',\n",
       "       'Barbados Rum 1 Liter', 'Barbados Rum 200 ml',\n",
       "       'Barbados Rum 375ml', 'Barbados Rum 50ml', 'Barbados Rum 750ml',\n",
       "       'Spanish Single Malt 100ml', 'Spanish Single Malt 1 Liter',\n",
       "       'Spanish Single Malt 375ml', 'Spanish Single Malt 50ml',\n",
       "       'Spanish Single Malt 750ml', 'Spanish Single Malt 200ml',\n",
       "       'Deep Eddy  Lemon Vodka', 'Diplomatico Reserva Exclusiva',\n",
       "       'Grand Teton Vodka', '\"Beefeater \"\"24\"\"\"', 'Athena Liq Ouzo Rum',\n",
       "       'Glenmorangie Bacalta HA', 'Valentine Vodka', 'Ansac VS  Cognac',\n",
       "       'Aalborg Jubilaeums Aquavit', 'Patron Silver 750 Box Tray Pack',\n",
       "       'Patron Citronge Mango', 'Lairds Old Apple Brandy 7YR',\n",
       "       'Green Absinthe', 'Red Absinthe', 'Deanston Organic 14YR',\n",
       "       'Calvados Morin Selection 3YR',\n",
       "       'Seven Devils Straight Bourbon Whiskey HA', 'HA Seven Devils',\n",
       "       'Don Amado Mezcal Rustico', 'HA Michters US*1 Small Batch',\n",
       "       'HA Orphan Barrel Barterhouse', 'HA Orphan Barrel Forged Oak',\n",
       "       'Rothman & Winter Orchard Peach',\n",
       "       'HA Abraham Bowman Wine Finish Whiskey',\n",
       "       'HA Highland Park Ice Edition', 'HA Pikesville Rye 110prf',\n",
       "       'HA Johnnie Walker Private Collection 2014 Smoke',\n",
       "       'Old Forester 1920', 'Jose Cuervo Especial Silver/Flask',\n",
       "       'Jose Cuervo Especial Gold /Flask', 'Ron Abuelo Anejo 7YR',\n",
       "       \"Aberlour A''bunadh\", 'El Mayor Extra Anejo 100% Agave',\n",
       "       'Ezra Brooks Bourbon Cream Mini', \"Michter's US*1 SB Rye\",\n",
       "       'Glen Moray Scotch Classic Port Cask w/2 Glasses',\n",
       "       'HA Laphroaig 25YR Cask Strength', 'Ron Abuelo 12YR',\n",
       "       'Zaya Gran Reserva Rum w/2 Rocks Glasses',\n",
       "       'Corralejo Silver w/2 Sangrita Glasses',\n",
       "       'Southern Comfort w/2 Rock Glasses',\n",
       "       'Crystal Head Vodka w/2 Skull Glasses', 'Hornitos Plata w/Glasses',\n",
       "       'Hornitos Reposado w/Glasses',\n",
       "       'Glen Moray Classic Chardonnay Cask Finish w/2 Glasses'],\n",
       "      dtype=object)"
      ]
     },
     "execution_count": 337,
     "metadata": {},
     "output_type": "execute_result"
    }
   ],
   "source": [
    "ytest17[ytest17['Category'].isna()]['Item Description'].unique()"
   ]
  },
  {
   "cell_type": "markdown",
   "id": "6161a03f",
   "metadata": {},
   "source": [
    "### Category Name"
   ]
  },
  {
   "cell_type": "code",
   "execution_count": 250,
   "id": "5a2bfbbf",
   "metadata": {},
   "outputs": [],
   "source": [
    "catnamena=pd.concat([y17[['Item Description','Category Name']],y16[['Item Description','Category Name']],y15[['Item Description','Category Name']],y14[['Item Description','Category Name']],y13[['Item Description','Category Name']],y12[['Item Description','Category Name']]])\n",
    "catnamena=catnamena[catnamena['Category Name'].notna()]\n",
    "catnamena.drop_duplicates(subset=['Item Description'],inplace=True)\n",
    "catnamena.to_csv('idcategoryname.csv')"
   ]
  },
  {
   "cell_type": "code",
   "execution_count": 253,
   "id": "f20d4351",
   "metadata": {},
   "outputs": [
    {
     "data": {
      "text/plain": [
       "5758"
      ]
     },
     "execution_count": 253,
     "metadata": {},
     "output_type": "execute_result"
    }
   ],
   "source": [
    "len(catnamena)"
   ]
  },
  {
   "cell_type": "code",
   "execution_count": 254,
   "id": "0def6df9",
   "metadata": {},
   "outputs": [],
   "source": [
    "catnamedict={}\n",
    "for i in catnamena['Item Description']:\n",
    "    catnamedict[i]=catnamena[catnamena['Item Description']==i]['Category Name'].values[0]"
   ]
  },
  {
   "cell_type": "code",
   "execution_count": 255,
   "id": "0d3d40f5",
   "metadata": {},
   "outputs": [],
   "source": [
    "def get_category_name(x,y):\n",
    "    storelist=list(catnamedict.keys())\n",
    "    if (pd.isna(x)) and (y in storelist):\n",
    "        return catnamedict[y]\n",
    "    else:\n",
    "        return x"
   ]
  },
  {
   "cell_type": "code",
   "execution_count": 287,
   "id": "ba772223",
   "metadata": {},
   "outputs": [],
   "source": [
    "#this is an example of how that is done, the full application is done later in the file\n",
    "ytest17['Category Name']=list(map(get_category_name,ytest17['Category Name'],ytest17['Item Description']))"
   ]
  },
  {
   "cell_type": "code",
   "execution_count": 249,
   "id": "2b85250b",
   "metadata": {},
   "outputs": [
    {
     "ename": "AttributeError",
     "evalue": "'list' object has no attribute 'isna'",
     "output_type": "error",
     "traceback": [
      "\u001b[1;31m---------------------------------------------------------------------------\u001b[0m",
      "\u001b[1;31mAttributeError\u001b[0m                            Traceback (most recent call last)",
      "\u001b[1;32m<ipython-input-249-7ad8997a7072>\u001b[0m in \u001b[0;36m<module>\u001b[1;34m\u001b[0m\n\u001b[1;32m----> 1\u001b[1;33m \u001b[0mytest17\u001b[0m\u001b[1;33m.\u001b[0m\u001b[0misna\u001b[0m\u001b[1;33m(\u001b[0m\u001b[1;33m)\u001b[0m\u001b[1;33m.\u001b[0m\u001b[0msum\u001b[0m\u001b[1;33m(\u001b[0m\u001b[1;33m)\u001b[0m\u001b[1;33m\u001b[0m\u001b[1;33m\u001b[0m\u001b[0m\n\u001b[0m",
      "\u001b[1;31mAttributeError\u001b[0m: 'list' object has no attribute 'isna'"
     ]
    }
   ],
   "source": [
    "ytest17.isna().sum()"
   ]
  },
  {
   "cell_type": "markdown",
   "id": "61dad74e",
   "metadata": {},
   "source": [
    "### Vendor Name"
   ]
  },
  {
   "cell_type": "code",
   "execution_count": 268,
   "id": "c9d48d38",
   "metadata": {},
   "outputs": [],
   "source": [
    "vennumna=pd.concat([y17[['Item Description','Vendor Name']],y16[['Item Description','Vendor Name']],y15[['Item Description','Vendor Name']],y14[['Item Description','Vendor Name']],y13[['Item Description','Vendor Name']],y12[['Item Description','Vendor Name']]])\n",
    "vennumna=vennumna[vennumna['Vendor Name'].notna()]\n",
    "vennumna.drop_duplicates(subset=['Item Description'],inplace=True)\n",
    "vennumna.to_csv('storenumvendorname.csv')"
   ]
  },
  {
   "cell_type": "code",
   "execution_count": 271,
   "id": "fc7d1082",
   "metadata": {},
   "outputs": [
    {
     "data": {
      "text/plain": [
       "5865"
      ]
     },
     "execution_count": 271,
     "metadata": {},
     "output_type": "execute_result"
    }
   ],
   "source": [
    "len(vennumna)"
   ]
  },
  {
   "cell_type": "code",
   "execution_count": 272,
   "id": "0843f545",
   "metadata": {},
   "outputs": [],
   "source": [
    "vennumnadict={}\n",
    "for i in vennumna['Item Description']:\n",
    "    vennumnadict[i]=vennumna[vennumna['Item Description']==i]['Vendor Name'].values[0]"
   ]
  },
  {
   "cell_type": "code",
   "execution_count": 273,
   "id": "f3c968ec",
   "metadata": {},
   "outputs": [],
   "source": [
    "def get_vendor_name(x,y):\n",
    "    storelist=list(vennumnadict.keys())\n",
    "    if (pd.isna(x)) and (y in storelist):\n",
    "        return vennumnadict[y]\n",
    "    else:\n",
    "        return x"
   ]
  },
  {
   "cell_type": "code",
   "execution_count": 274,
   "id": "1546c4ba",
   "metadata": {},
   "outputs": [],
   "source": [
    "#this is an example of how that is done, the full application is done later in the file\n",
    "ytest17['Vendor Name']=list(map(get_vendor_name,ytest17['Vendor Name'],ytest17['Item Description']))"
   ]
  },
  {
   "cell_type": "markdown",
   "id": "ded05743",
   "metadata": {},
   "source": [
    "### Vendor Number"
   ]
  },
  {
   "cell_type": "code",
   "execution_count": 257,
   "id": "c4204188",
   "metadata": {},
   "outputs": [],
   "source": [
    "vennum=pd.concat([y17[['Item Description','Vendor Number']],y16[['Item Description','Vendor Number']],y15[['Item Description','Vendor Number']],y14[['Item Description','Vendor Number']],y13[['Item Description','Vendor Number']],y12[['Item Description','Vendor Number']]])\n",
    "vennum=vennum[vennum['Vendor Number'].notna()]\n",
    "vennum.drop_duplicates(subset=['Item Description'],inplace=True)\n",
    "vennum.to_csv('storenumvendornumber.csv')"
   ]
  },
  {
   "cell_type": "code",
   "execution_count": 260,
   "id": "f6cd646b",
   "metadata": {},
   "outputs": [
    {
     "data": {
      "text/plain": [
       "5863"
      ]
     },
     "execution_count": 260,
     "metadata": {},
     "output_type": "execute_result"
    }
   ],
   "source": [
    "len(vennum)"
   ]
  },
  {
   "cell_type": "code",
   "execution_count": 261,
   "id": "12ebffba",
   "metadata": {},
   "outputs": [],
   "source": [
    "vennumdict={}\n",
    "for i in vennum['Item Description']:\n",
    "    vennumdict[i]=vennum[vennum['Item Description']==i]['Vendor Number'].values[0]"
   ]
  },
  {
   "cell_type": "code",
   "execution_count": 262,
   "id": "e8098d97",
   "metadata": {},
   "outputs": [],
   "source": [
    "def get_vendor_number(x,y):\n",
    "    storelist=list(vennumdict.keys())\n",
    "    if (pd.isna(x)) and (y in storelist):\n",
    "        return vennumdict[y]\n",
    "    else:\n",
    "        return x"
   ]
  },
  {
   "cell_type": "code",
   "execution_count": null,
   "id": "f4b2a947",
   "metadata": {},
   "outputs": [],
   "source": [
    "#this is an example of how that is done, the full application is done later in the file\n",
    "ytest17['Vendor Name']=list(map(get_vendor_name,ytest17['Vendor Number'],ytest17['Item Description']))"
   ]
  },
  {
   "cell_type": "markdown",
   "id": "c1c928d5",
   "metadata": {},
   "source": [
    "# Combining all functions and dictionaries"
   ]
  },
  {
   "cell_type": "code",
   "execution_count": 268,
   "id": "7f2f791c",
   "metadata": {},
   "outputs": [],
   "source": [
    "sall=pd.concat([y17[['Store Number','Address']],y16[['Store Number','Address']],y15[['Store Number','Address']],y14[['Store Number','Address']],y13[['Store Number','Address']],y12[['Store Number','Address']]])\n",
    "sall=sall[sall['Address'].notna()]\n",
    "sall.drop_duplicates(subset=['Store Number'],inplace=True)\n",
    "slall=pd.concat([y17[['Store Number','Store Location']],y16[['Store Number','Store Location']],y15[['Store Number','Store Location']],y14[['Store Number','Store Location']],y13[['Store Number','Store Location']],y12[['Store Number','Store Location']]])\n",
    "slall=slall[slall['Store Location'].notna()]\n",
    "slall.drop_duplicates(subset=['Store Number'],inplace=True)\n",
    "zipna=pd.concat([y17[['Store Number','Zip Code']],y16[['Store Number','Zip Code']],y15[['Store Number','Zip Code']],y14[['Store Number','Zip Code']],y13[['Store Number','Zip Code']],y12[['Store Number','Zip Code']]])\n",
    "zipna=zipna[zipna['Zip Code'].notna()]\n",
    "zipna.drop_duplicates(subset=['Store Number'],inplace=True)\n",
    "countyna=pd.concat([y17[['Store Number','County']],y16[['Store Number','County']],y15[['Store Number','County']],y14[['Store Number','County']],y13[['Store Number','County']],y12[['Store Number','County']]])\n",
    "countyna=countyna[countyna['County'].notna()]\n",
    "countyna.drop_duplicates(subset=['Store Number'],inplace=True)\n",
    "countynumna=pd.concat([y17[['Store Number','County Number']],y16[['Store Number','County Number']],y15[['Store Number','County Number']],y14[['Store Number','County Number']],y13[['Store Number','County Number']],y12[['Store Number','County Number']]])\n",
    "countynumna=countynumna[countynumna['County Number'].notna()]\n",
    "countynumna.drop_duplicates(subset=['Store Number'],inplace=True)\n",
    "cityna=pd.concat([y17[['Store Number','City']],y16[['Store Number','City']],y15[['Store Number','City']],y14[['Store Number','City']],y13[['Store Number','City']],y12[['Store Number','City']]])\n",
    "cityna=cityna[cityna['City'].notna()]\n",
    "cityna.drop_duplicates(subset=['Store Number'],inplace=True)\n",
    "catna=pd.concat([y17[['Item Description','Category']],y16[['Item Description','Category']],y15[['Item Description','Category']],y14[['Item Description','Category']],y13[['Item Description','Category']],y12[['Item Description','Category']]])\n",
    "catna=catna[catna['Category'].notna()]\n",
    "catna.drop_duplicates(subset=['Item Description'],inplace=True)\n",
    "catnamena=pd.concat([y17[['Item Description','Category Name']],y16[['Item Description','Category Name']],y15[['Item Description','Category Name']],y14[['Item Description','Category Name']],y13[['Item Description','Category Name']],y12[['Item Description','Category Name']]])\n",
    "catnamena=catnamena[catnamena['Category Name'].notna()]\n",
    "catnamena.drop_duplicates(subset=['Item Description'],inplace=True)\n",
    "vennumna=pd.concat([y17[['Item Description','Vendor Name']],y16[['Item Description','Vendor Name']],y15[['Item Description','Vendor Name']],y14[['Item Description','Vendor Name']],y13[['Item Description','Vendor Name']],y12[['Item Description','Vendor Name']]])\n",
    "vennumna=vennumna[vennumna['Vendor Name'].notna()]\n",
    "vennumna.drop_duplicates(subset=['Item Description'],inplace=True)\n",
    "vennum=pd.concat([y17[['Item Description','Vendor Number']],y16[['Item Description','Vendor Number']],y15[['Item Description','Vendor Number']],y14[['Item Description','Vendor Number']],y13[['Item Description','Vendor Number']],y12[['Item Description','Vendor Number']]])\n",
    "vennum=vennum[vennum['Vendor Number'].notna()]\n",
    "vennum.drop_duplicates(subset=['Item Description'],inplace=True)"
   ]
  },
  {
   "cell_type": "code",
   "execution_count": null,
   "id": "98735d36",
   "metadata": {},
   "outputs": [],
   "source": [
    "sall.to_csv('storenumaddress.csv')\n",
    "slall.to_csv('storenumlocation.csv')\n",
    "zipna.to_csv('storenumzip.csv')\n",
    "countyna.to_csv('storenumcounty.csv')\n",
    "countynumna.to_csv('storenumcountynum.csv')\n",
    "cityna.to_csv('storenumcity.csv')\n",
    "catna.to_csv('idcategory.csv')\n",
    "catnamena.to_csv('idcategoryname.csv')\n",
    "vennumna.to_csv('storenumvendorname.csv')\n",
    "vennum.to_csv('storenumvendornumber.csv')"
   ]
  },
  {
   "cell_type": "code",
   "execution_count": 185,
   "id": "2ff892c8",
   "metadata": {},
   "outputs": [],
   "source": [
    "vennumdict={}\n",
    "for i in vennum['Item Description']:\n",
    "    vennumdict[i]=vennum[vennum['Item Description']==i]['Vendor Number'].values[0]\n",
    "vennumnadict={}\n",
    "for i in vennumna['Item Description']:\n",
    "    vennumnadict[i]=vennumna[vennumna['Item Description']==i]['Vendor Name'].values[0]\n",
    "catnamedict={}\n",
    "for i in catnamena['Item Description']:\n",
    "    catnamedict[i]=catnamena[catnamena['Item Description']==i]['Category Name'].values[0]\n",
    "catdict={}\n",
    "for i in catna['Item Description']:\n",
    "    catdict[i]=catna[catna['Item Description']==i]['Category'].values[0]\n",
    "citydict={}\n",
    "for i in cityna['Store Number']:\n",
    "    citydict[i]=cityna[cityna['Store Number']==i]['City'].values[0]\n",
    "countynumdict={}\n",
    "for i in countynumna['Store Number']:\n",
    "    countynumdict[i]=countynumna[countynumna['Store Number']==i]['County Number'].values[0]\n",
    "slalldict={}\n",
    "for i in slall['Store Number']:\n",
    "    slalldict[i]=slall[slall['Store Number']==i]['Store Location'].values[0]\n",
    "salldict={}\n",
    "for i in sall['Store Number']:\n",
    "    salldict[i]=sall[sall['Store Number']==i]['Address'].values[0]\n",
    "zipdict={}\n",
    "for i in zipna['Store Number']:\n",
    "    zipdict[i]=zipna[zipna['Store Number']==i]['Zip Code'].values[0]\n",
    "countydict={}\n",
    "for i in countyna['Store Number']:\n",
    "    countydict[i]=countyna[countyna['Store Number']==i]['County'].values[0]"
   ]
  },
  {
   "cell_type": "code",
   "execution_count": 454,
   "id": "ea5a964a",
   "metadata": {},
   "outputs": [],
   "source": [
    "def category_name2(x,y):\n",
    "    if (pd.isna(x)):\n",
    "        if (y==\"Galliano L'Autentico\"):\n",
    "            return 'MISC. IMPORTED CORDIALS & LIQUEURS'\n",
    "        elif (y=='Spanish Single Malt 100ml'):\n",
    "            return 'SINGLE MALT SCOTCH'\n",
    "        elif (y=='Spanish Single Malt 1 Liter'):\n",
    "            return 'SINGLE MALT SCOTCH'\n",
    "        elif (y=='Spanish Single Malt 375ml'):\n",
    "            return 'SINGLE MALT SCOTCH'\n",
    "        elif (y=='Spanish Single Malt 50ml'):\n",
    "            return 'SINGLE MALT SCOTCH'\n",
    "        elif (y=='Spanish Single Malt 750ml'):\n",
    "            return 'SINGLE MALT SCOTCH'\n",
    "        elif (y=='Spanish Single Malt 200ml'):\n",
    "            return 'SINGLE MALT SCOTCH'\n",
    "        elif (y=='Deep Eddy  Lemon Vodka'):\n",
    "            return 'VODKA FLAVORED'\n",
    "        elif (y=='\"Beefeater \"\"24\"\"\"'):\n",
    "            return 'IMPORTED DRY GINS'\n",
    "        elif (y=='Ansac VS  Cognac'):\n",
    "            return 'Imported Brandies'\n",
    "        elif (y=='Aalborg Jubilaeums Aquavit'):\n",
    "            return 'Imported Cordials & Liqueur'\n",
    "        elif (y=='Patron Silver 750 Box Tray Pack'):\n",
    "            return 'DECANTERS & SPECIALTY PACKAGES'\n",
    "        elif (y=='Patron Citronge Mango'):\n",
    "            return '100% Agave Tequila'\n",
    "        elif (y=='Deanston Organic 14YR'):\n",
    "            return 'SINGLE MALT SCOTCH'\n",
    "        elif (y=='HA Orphan Barrel Barterhouse'):\n",
    "            return 'STRAIGHT BOURBON WHISKIES'\n",
    "        elif (y=='HA Orphan Barrel Forged Oak'):\n",
    "            return 'STRAIGHT BOURBON WHISKIES'\n",
    "        elif (y=='Rothman & Winter Orchard Peach'):\n",
    "            return 'MISC. IMPORTED CORDIALS & LIQUEURS'\n",
    "        elif (y=='HA Pikesville Rye 110prf'):\n",
    "            return 'STRAIGHT RYE WHISKIES'\n",
    "        elif (y=='HA Johnnie Walker Private Collection 2014 Smoke'):\n",
    "            return 'SCOTCH WHISKIES'\n",
    "        elif (y=='Jose Cuervo Especial Silver/Flask'):\n",
    "            return 'DECANTERS & SPECIALTY PACKAGES'\n",
    "        elif (y=='Jose Cuervo Especial Gold /Flask'):\n",
    "            return  'DECANTERS & SPECIALTY PACKAGES'\n",
    "        elif (y==\"Aberlour A''bunadh\"):\n",
    "            return 'SINGLE MALT SCOTCH'\n",
    "        elif (y=='El Mayor Extra Anejo 100% Agave'):\n",
    "            return 'TEQUILA'\n",
    "        elif (y=='Ezra Brooks Bourbon Cream Mini'):\n",
    "            return 'Temporary & Specialty Packages'\n",
    "        elif (y==\"Michter's US*1 SB Rye\"):\n",
    "            return 'STRAIGHT RYE WHISKIES'\n",
    "        elif (y=='Glen Moray Scotch Classic Port Cask w/2 Glasses'):\n",
    "            return  'DECANTERS & SPECIALTY PACKAGES'\n",
    "        elif (y=='Zaya Gran Reserva Rum w/2 Rocks Glasses'):\n",
    "            return   'DECANTERS & SPECIALTY PACKAGES'\n",
    "        elif (y=='Corralejo Silver w/2 Sangrita Glasses'):\n",
    "            return  'DECANTERS & SPECIALTY PACKAGES'\n",
    "        elif (y=='Southern Comfort w/2 Rock Glasses'):\n",
    "            return  'DECANTERS & SPECIALTY PACKAGES'\n",
    "        elif (y=='Crystal Head Vodka w/2 Skull Glasses'):\n",
    "            return  'DECANTERS & SPECIALTY PACKAGES'\n",
    "        elif (y=='Hornitos Plata w/Glasses'):\n",
    "            return  'DECANTERS & SPECIALTY PACKAGES'\n",
    "        elif (y=='Hornitos Reposado w/Glasses'):\n",
    "            return   'DECANTERS & SPECIALTY PACKAGES'\n",
    "        elif (y=='Glen Moray Classic Chardonnay Cask Finish w/2 Glasses'):\n",
    "            return  'DECANTERS & SPECIALTY PACKAGES'\n",
    "        else:\n",
    "            return x\n",
    "    else:\n",
    "        return x\n",
    "              \n",
    "\n",
    "def category2(x,y):\n",
    "    if (pd.isna(x)):\n",
    "        if (y==\"Galliano L'Autentico\"):\n",
    "            return '1082900.'\n",
    "        elif (y=='Spanish Single Malt 100ml'):\n",
    "            return '1012210.'\n",
    "        elif (y=='Spanish Single Malt 1 Liter'):\n",
    "            return  '1012210.'\n",
    "        elif (y=='Spanish Single Malt 375ml'):\n",
    "            return  '1012210.'\n",
    "        elif (y=='Spanish Single Malt 50ml'):\n",
    "            return  '1012210.'\n",
    "        elif (y=='Spanish Single Malt 750ml'):\n",
    "            return  '1012210.'\n",
    "        elif (y=='Spanish Single Malt 200ml'):\n",
    "            return  '1012210.'\n",
    "        elif (y=='Deep Eddy Lemon Vodka'):\n",
    "            return '1031200.'\n",
    "        elif (y=='\"Beefeater \"\"24\"\"\"'):\n",
    "            return '1042100.'\n",
    "        elif (y=='Ansac VS  Cognac'):\n",
    "            return '1052100.'\n",
    "        elif (y=='Aalborg Jubilaeums Aquavit'):\n",
    "            return '1082100.'\n",
    "        elif (y=='Patron Silver 750 Box Tray Pack'):\n",
    "            return  '1701100.'\n",
    "        elif (y=='Patron Citronge Mango'):\n",
    "            return '1022200.'\n",
    "        elif (y=='Deanston Organic 14YR'):\n",
    "            return '1012210.'\n",
    "        elif (y=='HA Orphan Barrel Barterhouse'):\n",
    "            return '1011200.'\n",
    "        elif (y=='HA Orphan Barrel Forged Oak'):\n",
    "            return '1011200.'\n",
    "        elif (y=='Rothman & Winter Orchard Peach'):\n",
    "            return '1082900.'\n",
    "        elif (y=='HA Pikesville Rye 110prf'):\n",
    "            return '1011500.'\n",
    "        elif (y=='HA Johnnie Walker Private Collection 2014 Smoke'):\n",
    "            return '1012200.'\n",
    "        elif (y=='Jose Cuervo Especial Silver/Flask'):\n",
    "            return '1701100.'\n",
    "        elif (y=='Jose Cuervo Especial Gold /Flask'):\n",
    "            return '1701100.'\n",
    "        elif (y==\"Aberlour A''bunadh\"):\n",
    "            return '1012210.'\n",
    "        elif (y=='El Mayor Extra Anejo 100% Agave'):\n",
    "            return '1022100.'\n",
    "        elif (y=='Ezra Brooks Bourbon Cream Mini'):\n",
    "            return '1701100.'\n",
    "        elif (y==\"Michter's US*1 SB Rye\"):\n",
    "            return '1011500.'\n",
    "        elif (y=='Glen Moray Scotch Classic Port Cask w/2 Glasses'):\n",
    "            return '1701100.'\n",
    "        elif (y=='Zaya Gran Reserva Rum w/2 Rocks Glasses'):\n",
    "            return  '1701100.'\n",
    "        elif (y=='Corralejo Silver w/2 Sangrita Glasses'):\n",
    "            return '1701100.'\n",
    "        elif (y=='Southern Comfort w/2 Rock Glasses'):\n",
    "            return '1701100.'\n",
    "        elif (y=='Crystal Head Vodka w/2 Skull Glasses'):\n",
    "            return '1701100.'\n",
    "        elif (y=='Hornitos Plata w/Glasses'):\n",
    "            return '1701100.'\n",
    "        elif (y=='Hornitos Reposado w/Glasses'):\n",
    "            return  '1701100.'\n",
    "        elif (y=='Glen Moray Classic Chardonnay Cask Finish w/2 Glasses'):\n",
    "            return '1701100.'\n",
    "        else:\n",
    "            return x\n",
    "    else:\n",
    "        return x\n",
    "              "
   ]
  },
  {
   "cell_type": "code",
   "execution_count": 47,
   "id": "546afbaf",
   "metadata": {},
   "outputs": [],
   "source": [
    "def get_category_name(x,y):\n",
    "    storelist=list(catnamedict.keys())\n",
    "    if (pd.isna(x)) and (y in storelist):\n",
    "        return catnamedict[y]\n",
    "    else:\n",
    "        return x\n",
    "def get_category(x,y):\n",
    "    storelist=list(catdict.keys())\n",
    "    if (pd.isna(x)) and (y in storelist):\n",
    "        return catdict[y]\n",
    "    else:\n",
    "        return x\n",
    "def get_address(x,y):\n",
    "    storelist=list(salldict.keys())\n",
    "    if (pd.isna(x)) & (y in storelist):\n",
    "        return salldict[y]\n",
    "    else:\n",
    "        return x\n",
    "def get_store_location(x,y):\n",
    "    storelist=list(slalldict.keys())\n",
    "    if (pd.isna(x)) & (y in storelist):\n",
    "        return slalldict[y]\n",
    "    else:\n",
    "        return x\n",
    "def get_zip(x,y):\n",
    "    storelist=list(zipdict.keys())\n",
    "    if (pd.isna(x)) and (y in storelist):\n",
    "        return zipdict[y]\n",
    "    else:\n",
    "        return x\n",
    "def get_county(x,y):\n",
    "    storelist=list(countydict.keys())\n",
    "    if (pd.isna(x)) and (y in storelist):\n",
    "        return countydict[y]\n",
    "    else:\n",
    "        return x\n",
    "def get_county_number(x,y):\n",
    "    storelist=list(countynumdict.keys())\n",
    "    if (pd.isna(x)) and (y in storelist):\n",
    "        return countynumdict[y]\n",
    "    else:\n",
    "        return x\n",
    "def get_city(x,y):\n",
    "    storelist=list(citydict.keys())\n",
    "    if (pd.isna(x)) and (y in storelist):\n",
    "        return citydict[y]\n",
    "    else:\n",
    "        return x\n",
    "def get_vendor_name(x,y):\n",
    "    storelist=list(vennumnadict.keys())\n",
    "    if (pd.isna(x)) and (y in storelist):\n",
    "        return vennumnadict[y]\n",
    "    else:\n",
    "        return x\n",
    "def get_vendor_number(x,y):\n",
    "    storelist=list(vennumdict.keys())\n",
    "    if (pd.isna(x)) and (y in storelist):\n",
    "        return vennumdict[y]\n",
    "    else:\n",
    "        return x"
   ]
  },
  {
   "cell_type": "markdown",
   "id": "d2012ff0",
   "metadata": {},
   "source": [
    "# For exceptions with Nan Values where the dictionary method did not work, functions are made to manually replace Nan values "
   ]
  },
  {
   "cell_type": "code",
   "execution_count": 200,
   "id": "d0b88973",
   "metadata": {},
   "outputs": [
    {
     "data": {
      "text/plain": [
       "array(['Laphroaig Quarter Cask'], dtype=object)"
      ]
     },
     "execution_count": 200,
     "metadata": {},
     "output_type": "execute_result"
    }
   ],
   "source": [
    "ytest17[ytest17['Vendor Number'].isna()]['Item Description'].unique()"
   ]
  },
  {
   "cell_type": "code",
   "execution_count": 201,
   "id": "ff348c48",
   "metadata": {},
   "outputs": [
    {
     "data": {
      "text/plain": [
       "array(['Laphroaig Quarter Cask'], dtype=object)"
      ]
     },
     "execution_count": 201,
     "metadata": {},
     "output_type": "execute_result"
    }
   ],
   "source": [
    "ytest17[ytest17['Vendor Name'].isna()]['Item Description'].unique()"
   ]
  },
  {
   "cell_type": "code",
   "execution_count": 213,
   "id": "445fc173",
   "metadata": {},
   "outputs": [
    {
     "data": {
      "text/plain": [
       "array([nan, 'Jim Beam Brands'], dtype=object)"
      ]
     },
     "execution_count": 213,
     "metadata": {},
     "output_type": "execute_result"
    }
   ],
   "source": [
    "ytest17[ytest17['Item Description']=='Laphroaig Quarter Cask']['Vendor Name'].unique()"
   ]
  },
  {
   "cell_type": "code",
   "execution_count": 212,
   "id": "375fed48",
   "metadata": {},
   "outputs": [
    {
     "data": {
      "text/plain": [
       "array([nan, 65.])"
      ]
     },
     "execution_count": 212,
     "metadata": {},
     "output_type": "execute_result"
    }
   ],
   "source": [
    "ytest17[ytest17['Item Description']=='Laphroaig Quarter Cask']['Vendor Number'].unique()"
   ]
  },
  {
   "cell_type": "code",
   "execution_count": null,
   "id": "0256b41c",
   "metadata": {},
   "outputs": [],
   "source": [
    "def vendor_name(x,y):\n",
    "    if (pd.isna(x)) and (y=='Laphroaig Quarter Cask'):\n",
    "        return 'Jim Beam Brands'\n",
    "    else:\n",
    "        return x\n",
    "\n",
    "def vendor_number(x,y):\n",
    "    if (pd.isna(x)) and (y=='Laphroaig Quarter Cask'):\n",
    "        return '65.'\n",
    "    else:\n",
    "        return x"
   ]
  },
  {
   "cell_type": "code",
   "execution_count": 211,
   "id": "c864c9b0",
   "metadata": {},
   "outputs": [
    {
     "data": {
      "text/html": [
       "<div>\n",
       "<style scoped>\n",
       "    .dataframe tbody tr th:only-of-type {\n",
       "        vertical-align: middle;\n",
       "    }\n",
       "\n",
       "    .dataframe tbody tr th {\n",
       "        vertical-align: top;\n",
       "    }\n",
       "\n",
       "    .dataframe thead th {\n",
       "        text-align: right;\n",
       "    }\n",
       "</style>\n",
       "<table border=\"1\" class=\"dataframe\">\n",
       "  <thead>\n",
       "    <tr style=\"text-align: right;\">\n",
       "      <th></th>\n",
       "      <th>Unnamed: 0</th>\n",
       "      <th>Invoice/Item Number</th>\n",
       "      <th>Date</th>\n",
       "      <th>Store Number</th>\n",
       "      <th>Store Name</th>\n",
       "      <th>Address</th>\n",
       "      <th>City</th>\n",
       "      <th>Zip Code</th>\n",
       "      <th>Store Location</th>\n",
       "      <th>County Number</th>\n",
       "      <th>County</th>\n",
       "      <th>Category</th>\n",
       "      <th>Category Name</th>\n",
       "      <th>Vendor Number</th>\n",
       "      <th>Vendor Name</th>\n",
       "      <th>Item Number</th>\n",
       "      <th>Item Description</th>\n",
       "      <th>Pack</th>\n",
       "      <th>Bottle Volume (ml)</th>\n",
       "      <th>State Bottle Cost</th>\n",
       "      <th>State Bottle Retail</th>\n",
       "      <th>Bottles Sold</th>\n",
       "      <th>Sale (Dollars)</th>\n",
       "      <th>Volume Sold (Liters)</th>\n",
       "      <th>Volume Sold (Gallons)</th>\n",
       "      <th>Year</th>\n",
       "    </tr>\n",
       "  </thead>\n",
       "  <tbody>\n",
       "    <tr>\n",
       "      <th>462689</th>\n",
       "      <td>11170669</td>\n",
       "      <td>INV-03923100001</td>\n",
       "      <td>03/22/2017</td>\n",
       "      <td>2556</td>\n",
       "      <td>Hy-Vee Wine and Spirits / Estherville</td>\n",
       "      <td>2608 E. Central Avenue\\nEstherville 51334\\n</td>\n",
       "      <td>Estherville</td>\n",
       "      <td>51334.0</td>\n",
       "      <td>2608 E. Central Avenue\\nEstherville 51334\\n</td>\n",
       "      <td>32.0</td>\n",
       "      <td>EMMET</td>\n",
       "      <td>1012200.0</td>\n",
       "      <td>Scotch Whiskies</td>\n",
       "      <td>NaN</td>\n",
       "      <td>NaN</td>\n",
       "      <td>905433</td>\n",
       "      <td>Laphroaig Quarter Cask</td>\n",
       "      <td>6</td>\n",
       "      <td>750</td>\n",
       "      <td>$4.17</td>\n",
       "      <td>$47.24</td>\n",
       "      <td>1</td>\n",
       "      <td>$283.44</td>\n",
       "      <td>0.75</td>\n",
       "      <td>0.19</td>\n",
       "      <td>17</td>\n",
       "    </tr>\n",
       "    <tr>\n",
       "      <th>1495748</th>\n",
       "      <td>12203728</td>\n",
       "      <td>INV-06985200114</td>\n",
       "      <td>08/30/2017</td>\n",
       "      <td>2614</td>\n",
       "      <td>Hy-Vee #3 Food and Drugstore</td>\n",
       "      <td>1823 E Kimberly Rd\\nDavenport 52807\\n(41.55678...</td>\n",
       "      <td>Davenport</td>\n",
       "      <td>52807.0</td>\n",
       "      <td>1823 E Kimberly Rd\\nDavenport 52807\\n(41.55678...</td>\n",
       "      <td>82.0</td>\n",
       "      <td>SCOTT</td>\n",
       "      <td>1012200.0</td>\n",
       "      <td>Scotch Whiskies</td>\n",
       "      <td>65.0</td>\n",
       "      <td>Jim Beam Brands</td>\n",
       "      <td>5433</td>\n",
       "      <td>Laphroaig Quarter Cask</td>\n",
       "      <td>6</td>\n",
       "      <td>750</td>\n",
       "      <td>$31.49</td>\n",
       "      <td>$47.24</td>\n",
       "      <td>1</td>\n",
       "      <td>$283.44</td>\n",
       "      <td>0.75</td>\n",
       "      <td>0.19</td>\n",
       "      <td>17</td>\n",
       "    </tr>\n",
       "    <tr>\n",
       "      <th>1532764</th>\n",
       "      <td>12240744</td>\n",
       "      <td>INV-07086700037</td>\n",
       "      <td>09/06/2017</td>\n",
       "      <td>2625</td>\n",
       "      <td>Hy-Vee Wine and Spirits #2</td>\n",
       "      <td>3301 W Kimberly Rd\\nDavenport 52804\\n</td>\n",
       "      <td>Davenport</td>\n",
       "      <td>52804.0</td>\n",
       "      <td>3301 W Kimberly Rd\\nDavenport 52804\\n</td>\n",
       "      <td>82.0</td>\n",
       "      <td>SCOTT</td>\n",
       "      <td>1012200.0</td>\n",
       "      <td>Scotch Whiskies</td>\n",
       "      <td>65.0</td>\n",
       "      <td>Jim Beam Brands</td>\n",
       "      <td>5433</td>\n",
       "      <td>Laphroaig Quarter Cask</td>\n",
       "      <td>6</td>\n",
       "      <td>750</td>\n",
       "      <td>$31.49</td>\n",
       "      <td>$47.24</td>\n",
       "      <td>1</td>\n",
       "      <td>$47.24</td>\n",
       "      <td>0.75</td>\n",
       "      <td>0.19</td>\n",
       "      <td>17</td>\n",
       "    </tr>\n",
       "    <tr>\n",
       "      <th>1533550</th>\n",
       "      <td>12241530</td>\n",
       "      <td>INV-07088500003</td>\n",
       "      <td>09/06/2017</td>\n",
       "      <td>5003</td>\n",
       "      <td>Famous Liquors</td>\n",
       "      <td>2604 W Locust St\\nDavenport 52804\\n(41.538186,...</td>\n",
       "      <td>Davenport</td>\n",
       "      <td>52804.0</td>\n",
       "      <td>2604 W Locust St\\nDavenport 52804\\n(41.538186,...</td>\n",
       "      <td>82.0</td>\n",
       "      <td>SCOTT</td>\n",
       "      <td>1012200.0</td>\n",
       "      <td>Scotch Whiskies</td>\n",
       "      <td>65.0</td>\n",
       "      <td>Jim Beam Brands</td>\n",
       "      <td>5433</td>\n",
       "      <td>Laphroaig Quarter Cask</td>\n",
       "      <td>6</td>\n",
       "      <td>750</td>\n",
       "      <td>$31.49</td>\n",
       "      <td>$47.24</td>\n",
       "      <td>2</td>\n",
       "      <td>$47.24</td>\n",
       "      <td>1.50</td>\n",
       "      <td>0.39</td>\n",
       "      <td>17</td>\n",
       "    </tr>\n",
       "    <tr>\n",
       "      <th>1578417</th>\n",
       "      <td>12286397</td>\n",
       "      <td>INV-07219300028</td>\n",
       "      <td>09/13/2017</td>\n",
       "      <td>4129</td>\n",
       "      <td>Cyclone Liquors</td>\n",
       "      <td>626 Lincoln Way\\nAmes 50010\\n(42.022854, -93.6...</td>\n",
       "      <td>Ames</td>\n",
       "      <td>50010.0</td>\n",
       "      <td>626 Lincoln Way\\nAmes 50010\\n(42.022854, -93.6...</td>\n",
       "      <td>85.0</td>\n",
       "      <td>STORY</td>\n",
       "      <td>1012200.0</td>\n",
       "      <td>Scotch Whiskies</td>\n",
       "      <td>65.0</td>\n",
       "      <td>Jim Beam Brands</td>\n",
       "      <td>5433</td>\n",
       "      <td>Laphroaig Quarter Cask</td>\n",
       "      <td>6</td>\n",
       "      <td>750</td>\n",
       "      <td>$31.49</td>\n",
       "      <td>$47.24</td>\n",
       "      <td>1</td>\n",
       "      <td>$283.44</td>\n",
       "      <td>0.75</td>\n",
       "      <td>0.19</td>\n",
       "      <td>17</td>\n",
       "    </tr>\n",
       "    <tr>\n",
       "      <th>1620576</th>\n",
       "      <td>12328556</td>\n",
       "      <td>INV-07348800002</td>\n",
       "      <td>09/20/2017</td>\n",
       "      <td>2233</td>\n",
       "      <td>Forbes Liquor Locker / remi</td>\n",
       "      <td>2508 Enterprise Ave\\nSpirit Lake 51360\\n(43.41...</td>\n",
       "      <td>Spirit Lake</td>\n",
       "      <td>51360.0</td>\n",
       "      <td>2508 Enterprise Ave\\nSpirit Lake 51360\\n(43.41...</td>\n",
       "      <td>30.0</td>\n",
       "      <td>DICKINSON</td>\n",
       "      <td>1012200.0</td>\n",
       "      <td>Scotch Whiskies</td>\n",
       "      <td>65.0</td>\n",
       "      <td>Jim Beam Brands</td>\n",
       "      <td>5433</td>\n",
       "      <td>Laphroaig Quarter Cask</td>\n",
       "      <td>6</td>\n",
       "      <td>750</td>\n",
       "      <td>$31.49</td>\n",
       "      <td>$47.24</td>\n",
       "      <td>2</td>\n",
       "      <td>$47.24</td>\n",
       "      <td>1.50</td>\n",
       "      <td>0.39</td>\n",
       "      <td>17</td>\n",
       "    </tr>\n",
       "    <tr>\n",
       "      <th>1663941</th>\n",
       "      <td>12371921</td>\n",
       "      <td>INV-07485100010</td>\n",
       "      <td>09/27/2017</td>\n",
       "      <td>2501</td>\n",
       "      <td>Hy-Vee  #2 / Ames</td>\n",
       "      <td>640 Lincolnway\\nAmes 50010\\n(42.022848, -93.61...</td>\n",
       "      <td>Ames</td>\n",
       "      <td>50010.0</td>\n",
       "      <td>640 Lincolnway\\nAmes 50010\\n(42.022848, -93.61...</td>\n",
       "      <td>85.0</td>\n",
       "      <td>STORY</td>\n",
       "      <td>1012200.0</td>\n",
       "      <td>Scotch Whiskies</td>\n",
       "      <td>65.0</td>\n",
       "      <td>Jim Beam Brands</td>\n",
       "      <td>5433</td>\n",
       "      <td>Laphroaig Quarter Cask</td>\n",
       "      <td>6</td>\n",
       "      <td>750</td>\n",
       "      <td>$31.49</td>\n",
       "      <td>$47.24</td>\n",
       "      <td>1</td>\n",
       "      <td>$283.44</td>\n",
       "      <td>0.75</td>\n",
       "      <td>0.19</td>\n",
       "      <td>17</td>\n",
       "    </tr>\n",
       "    <tr>\n",
       "      <th>1705681</th>\n",
       "      <td>12413661</td>\n",
       "      <td>INV-07650100011</td>\n",
       "      <td>10/04/2017</td>\n",
       "      <td>2233</td>\n",
       "      <td>Forbes Liquor Locker / remi</td>\n",
       "      <td>2508 Enterprise Ave\\nSpirit Lake 51360\\n(43.41...</td>\n",
       "      <td>Spirit Lake</td>\n",
       "      <td>51360.0</td>\n",
       "      <td>2508 Enterprise Ave\\nSpirit Lake 51360\\n(43.41...</td>\n",
       "      <td>30.0</td>\n",
       "      <td>DICKINSON</td>\n",
       "      <td>1012200.0</td>\n",
       "      <td>Scotch Whiskies</td>\n",
       "      <td>65.0</td>\n",
       "      <td>Jim Beam Brands</td>\n",
       "      <td>5433</td>\n",
       "      <td>Laphroaig Quarter Cask</td>\n",
       "      <td>6</td>\n",
       "      <td>750</td>\n",
       "      <td>$31.49</td>\n",
       "      <td>$47.24</td>\n",
       "      <td>1</td>\n",
       "      <td>$47.24</td>\n",
       "      <td>0.75</td>\n",
       "      <td>0.19</td>\n",
       "      <td>17</td>\n",
       "    </tr>\n",
       "    <tr>\n",
       "      <th>1767730</th>\n",
       "      <td>12475710</td>\n",
       "      <td>INV-07946500008</td>\n",
       "      <td>10/12/2017</td>\n",
       "      <td>2535</td>\n",
       "      <td>Hy-Vee Food Store #1 / WDM</td>\n",
       "      <td>1700 Valley West Dr\\nWest Des Moines 50265\\n</td>\n",
       "      <td>West Des Moines</td>\n",
       "      <td>50265.0</td>\n",
       "      <td>1700 Valley West Dr\\nWest Des Moines 50265\\n</td>\n",
       "      <td>77.0</td>\n",
       "      <td>POLK</td>\n",
       "      <td>1012200.0</td>\n",
       "      <td>Scotch Whiskies</td>\n",
       "      <td>65.0</td>\n",
       "      <td>Jim Beam Brands</td>\n",
       "      <td>5433</td>\n",
       "      <td>Laphroaig Quarter Cask</td>\n",
       "      <td>6</td>\n",
       "      <td>750</td>\n",
       "      <td>$31.49</td>\n",
       "      <td>$47.24</td>\n",
       "      <td>2</td>\n",
       "      <td>$47.24</td>\n",
       "      <td>1.50</td>\n",
       "      <td>0.39</td>\n",
       "      <td>17</td>\n",
       "    </tr>\n",
       "    <tr>\n",
       "      <th>1790130</th>\n",
       "      <td>12498110</td>\n",
       "      <td>INV-08049400116</td>\n",
       "      <td>10/17/2017</td>\n",
       "      <td>2619</td>\n",
       "      <td>Hy-Vee Wine and Spirits / WDM</td>\n",
       "      <td>1725 74th St\\nWest Des Moines 50266\\n(41.59851...</td>\n",
       "      <td>West Des Moines</td>\n",
       "      <td>50266.0</td>\n",
       "      <td>1725 74th St\\nWest Des Moines 50266\\n(41.59851...</td>\n",
       "      <td>77.0</td>\n",
       "      <td>POLK</td>\n",
       "      <td>1012200.0</td>\n",
       "      <td>Scotch Whiskies</td>\n",
       "      <td>65.0</td>\n",
       "      <td>Jim Beam Brands</td>\n",
       "      <td>5433</td>\n",
       "      <td>Laphroaig Quarter Cask</td>\n",
       "      <td>6</td>\n",
       "      <td>750</td>\n",
       "      <td>$31.49</td>\n",
       "      <td>$47.24</td>\n",
       "      <td>2</td>\n",
       "      <td>$47.24</td>\n",
       "      <td>1.50</td>\n",
       "      <td>0.39</td>\n",
       "      <td>17</td>\n",
       "    </tr>\n",
       "  </tbody>\n",
       "</table>\n",
       "</div>"
      ],
      "text/plain": [
       "         Unnamed: 0 Invoice/Item Number        Date  Store Number  \\\n",
       "462689     11170669     INV-03923100001  03/22/2017          2556   \n",
       "1495748    12203728     INV-06985200114  08/30/2017          2614   \n",
       "1532764    12240744     INV-07086700037  09/06/2017          2625   \n",
       "1533550    12241530     INV-07088500003  09/06/2017          5003   \n",
       "1578417    12286397     INV-07219300028  09/13/2017          4129   \n",
       "1620576    12328556     INV-07348800002  09/20/2017          2233   \n",
       "1663941    12371921     INV-07485100010  09/27/2017          2501   \n",
       "1705681    12413661     INV-07650100011  10/04/2017          2233   \n",
       "1767730    12475710     INV-07946500008  10/12/2017          2535   \n",
       "1790130    12498110     INV-08049400116  10/17/2017          2619   \n",
       "\n",
       "                                    Store Name  \\\n",
       "462689   Hy-Vee Wine and Spirits / Estherville   \n",
       "1495748           Hy-Vee #3 Food and Drugstore   \n",
       "1532764             Hy-Vee Wine and Spirits #2   \n",
       "1533550                         Famous Liquors   \n",
       "1578417                        Cyclone Liquors   \n",
       "1620576            Forbes Liquor Locker / remi   \n",
       "1663941                      Hy-Vee  #2 / Ames   \n",
       "1705681            Forbes Liquor Locker / remi   \n",
       "1767730             Hy-Vee Food Store #1 / WDM   \n",
       "1790130          Hy-Vee Wine and Spirits / WDM   \n",
       "\n",
       "                                                   Address             City  \\\n",
       "462689         2608 E. Central Avenue\\nEstherville 51334\\n      Estherville   \n",
       "1495748  1823 E Kimberly Rd\\nDavenport 52807\\n(41.55678...        Davenport   \n",
       "1532764              3301 W Kimberly Rd\\nDavenport 52804\\n        Davenport   \n",
       "1533550  2604 W Locust St\\nDavenport 52804\\n(41.538186,...        Davenport   \n",
       "1578417  626 Lincoln Way\\nAmes 50010\\n(42.022854, -93.6...             Ames   \n",
       "1620576  2508 Enterprise Ave\\nSpirit Lake 51360\\n(43.41...      Spirit Lake   \n",
       "1663941  640 Lincolnway\\nAmes 50010\\n(42.022848, -93.61...             Ames   \n",
       "1705681  2508 Enterprise Ave\\nSpirit Lake 51360\\n(43.41...      Spirit Lake   \n",
       "1767730       1700 Valley West Dr\\nWest Des Moines 50265\\n  West Des Moines   \n",
       "1790130  1725 74th St\\nWest Des Moines 50266\\n(41.59851...  West Des Moines   \n",
       "\n",
       "         Zip Code                                     Store Location  \\\n",
       "462689    51334.0        2608 E. Central Avenue\\nEstherville 51334\\n   \n",
       "1495748   52807.0  1823 E Kimberly Rd\\nDavenport 52807\\n(41.55678...   \n",
       "1532764   52804.0              3301 W Kimberly Rd\\nDavenport 52804\\n   \n",
       "1533550   52804.0  2604 W Locust St\\nDavenport 52804\\n(41.538186,...   \n",
       "1578417   50010.0  626 Lincoln Way\\nAmes 50010\\n(42.022854, -93.6...   \n",
       "1620576   51360.0  2508 Enterprise Ave\\nSpirit Lake 51360\\n(43.41...   \n",
       "1663941   50010.0  640 Lincolnway\\nAmes 50010\\n(42.022848, -93.61...   \n",
       "1705681   51360.0  2508 Enterprise Ave\\nSpirit Lake 51360\\n(43.41...   \n",
       "1767730   50265.0       1700 Valley West Dr\\nWest Des Moines 50265\\n   \n",
       "1790130   50266.0  1725 74th St\\nWest Des Moines 50266\\n(41.59851...   \n",
       "\n",
       "         County Number     County   Category    Category Name  Vendor Number  \\\n",
       "462689            32.0      EMMET  1012200.0  Scotch Whiskies            NaN   \n",
       "1495748           82.0      SCOTT  1012200.0  Scotch Whiskies           65.0   \n",
       "1532764           82.0      SCOTT  1012200.0  Scotch Whiskies           65.0   \n",
       "1533550           82.0      SCOTT  1012200.0  Scotch Whiskies           65.0   \n",
       "1578417           85.0      STORY  1012200.0  Scotch Whiskies           65.0   \n",
       "1620576           30.0  DICKINSON  1012200.0  Scotch Whiskies           65.0   \n",
       "1663941           85.0      STORY  1012200.0  Scotch Whiskies           65.0   \n",
       "1705681           30.0  DICKINSON  1012200.0  Scotch Whiskies           65.0   \n",
       "1767730           77.0       POLK  1012200.0  Scotch Whiskies           65.0   \n",
       "1790130           77.0       POLK  1012200.0  Scotch Whiskies           65.0   \n",
       "\n",
       "             Vendor Name  Item Number        Item Description  Pack  \\\n",
       "462689               NaN       905433  Laphroaig Quarter Cask     6   \n",
       "1495748  Jim Beam Brands         5433  Laphroaig Quarter Cask     6   \n",
       "1532764  Jim Beam Brands         5433  Laphroaig Quarter Cask     6   \n",
       "1533550  Jim Beam Brands         5433  Laphroaig Quarter Cask     6   \n",
       "1578417  Jim Beam Brands         5433  Laphroaig Quarter Cask     6   \n",
       "1620576  Jim Beam Brands         5433  Laphroaig Quarter Cask     6   \n",
       "1663941  Jim Beam Brands         5433  Laphroaig Quarter Cask     6   \n",
       "1705681  Jim Beam Brands         5433  Laphroaig Quarter Cask     6   \n",
       "1767730  Jim Beam Brands         5433  Laphroaig Quarter Cask     6   \n",
       "1790130  Jim Beam Brands         5433  Laphroaig Quarter Cask     6   \n",
       "\n",
       "         Bottle Volume (ml) State Bottle Cost State Bottle Retail  \\\n",
       "462689                  750             $4.17              $47.24   \n",
       "1495748                 750            $31.49              $47.24   \n",
       "1532764                 750            $31.49              $47.24   \n",
       "1533550                 750            $31.49              $47.24   \n",
       "1578417                 750            $31.49              $47.24   \n",
       "1620576                 750            $31.49              $47.24   \n",
       "1663941                 750            $31.49              $47.24   \n",
       "1705681                 750            $31.49              $47.24   \n",
       "1767730                 750            $31.49              $47.24   \n",
       "1790130                 750            $31.49              $47.24   \n",
       "\n",
       "         Bottles Sold Sale (Dollars)  Volume Sold (Liters)  \\\n",
       "462689              1        $283.44                  0.75   \n",
       "1495748             1        $283.44                  0.75   \n",
       "1532764             1         $47.24                  0.75   \n",
       "1533550             2         $47.24                  1.50   \n",
       "1578417             1        $283.44                  0.75   \n",
       "1620576             2         $47.24                  1.50   \n",
       "1663941             1        $283.44                  0.75   \n",
       "1705681             1         $47.24                  0.75   \n",
       "1767730             2         $47.24                  1.50   \n",
       "1790130             2         $47.24                  1.50   \n",
       "\n",
       "         Volume Sold (Gallons)  Year  \n",
       "462689                    0.19    17  \n",
       "1495748                   0.19    17  \n",
       "1532764                   0.19    17  \n",
       "1533550                   0.39    17  \n",
       "1578417                   0.19    17  \n",
       "1620576                   0.39    17  \n",
       "1663941                   0.19    17  \n",
       "1705681                   0.19    17  \n",
       "1767730                   0.39    17  \n",
       "1790130                   0.39    17  "
      ]
     },
     "execution_count": 211,
     "metadata": {},
     "output_type": "execute_result"
    }
   ],
   "source": [
    "#checking results of manual replacement\n",
    "ytest17[ytest17['Item Description']=='Laphroaig Quarter Cask']"
   ]
  },
  {
   "cell_type": "code",
   "execution_count": 286,
   "id": "31484929",
   "metadata": {},
   "outputs": [
    {
     "data": {
      "text/plain": [
       "array([], dtype=object)"
      ]
     },
     "execution_count": 286,
     "metadata": {},
     "output_type": "execute_result"
    }
   ],
   "source": [
    "catnamena[catnamena['Item Description']=='Barbados Rum']['Category Name'].unique()"
   ]
  },
  {
   "cell_type": "code",
   "execution_count": 358,
   "id": "48694201",
   "metadata": {},
   "outputs": [
    {
     "data": {
      "text/plain": [
       "array([], dtype=object)"
      ]
     },
     "execution_count": 358,
     "metadata": {},
     "output_type": "execute_result"
    }
   ],
   "source": [
    "catnamena[catnamena['Item Description'].str.contains('thena')]['Item Description'].unique()"
   ]
  },
  {
   "cell_type": "code",
   "execution_count": 303,
   "id": "196f35d3",
   "metadata": {},
   "outputs": [
    {
     "data": {
      "text/plain": [
       "array(['White Rum', 'Spiced Rum', 'Gold Rum', 'Flavored Rum',\n",
       "       'Aged Dark Rum'], dtype=object)"
      ]
     },
     "execution_count": 303,
     "metadata": {},
     "output_type": "execute_result"
    }
   ],
   "source": [
    "y17[y17['Category Name'].notna() & y17['Category Name'].str.contains('Rum')]['Category Name'].unique()"
   ]
  },
  {
   "cell_type": "code",
   "execution_count": 307,
   "id": "21fb7736",
   "metadata": {},
   "outputs": [
    {
     "data": {
      "text/plain": [
       "array(['Barton Rum Light', 'Captain Morgan Spiced Rum',\n",
       "       'Bacardi Superior Rum', 'Bacardi Oakheart',\n",
       "       'Appleton Signature Blend', 'Sailor Jerry Spiced Navy Rum',\n",
       "       'Paramount White Rum', 'Malibu Coconut Rum',\n",
       "       'Bacardi Gold Rum Mini', 'Captain Morgan Silver Spiced Rum',\n",
       "       'Captain Morgan Spiced Rum Pet', 'Captain Morgan Spiced Rum Mini',\n",
       "       'Captain Morgan Original Spiced', 'Blue Chair Bay Coconut',\n",
       "       'Bacardi Limon', 'Bacardi Mango',\n",
       "       'Captain Morgan Parrot Bay Pineapple', 'Bacardi Dragon Berry',\n",
       "       'Bacardi Pineapple', 'Bacardi Gold Rum',\n",
       "       'Captain Morgan Cannon Blast', 'Admiral Nelson Spiced Rum',\n",
       "       'Captain Morgan Black Spiced',\n",
       "       'Captain Morgan Original Spiced Rum Pet', 'Captain Morgan White',\n",
       "       'Cruzan Dark Rum', 'Rondiaz Rum White', 'Malibu Coconut Rum Mini',\n",
       "       'Malibu Pineapple Rum', 'Bacardi Superior Rum Mini',\n",
       "       'Captain Morgan 100 Proof Spiced Rum', 'Captain Morgan Pineapple',\n",
       "       'Malibu Pineapple Upside Down Cake',\n",
       "       'Captain Morgan Spiced Barrel',\n",
       "       'Captain Morgan Parrot Bay Coconut', 'Bacardi Superior PET',\n",
       "       'Lady Bligh Spiced Rum', 'Bacardi Superior Rum Pet',\n",
       "       'Admiral Nelson Cherry Spiced Rum', 'Phillips White Rum',\n",
       "       'Cruzan Mango Rum', 'Paramount Gold Rum',\n",
       "       'Malibu Passion Fruit Rum', 'Malibu Black', 'Bacardi Black',\n",
       "       'Captain Morgan Private Stock', 'Kraken Black Spiced Rum',\n",
       "       'Admiral Nelson Spiced Rum Mini', 'Hawkeye Light Rum',\n",
       "       \"Myers's Rum Original Dark\", 'Admiral Nelson Spiced Rum Traveler',\n",
       "       'Ronrico Silver Label Rum (pr)', 'Rondiaz Rum Spiced',\n",
       "       'Kraken Black Spiced 70prf', 'Kraken Black Spiced Rum 70prf',\n",
       "       'Blackheart Premium Spiced Rum', 'Calico Jack Spiced',\n",
       "       'Admiral Nelson Coconut Rum', 'Cruzan Black Cherry Rum',\n",
       "       'Paramount Gold Rum Traveler', 'Captain Morgan Cannon Blast Mini',\n",
       "       'Bacardi Grapefruit', 'Mt. Gay Eclipse Rum', 'Bacardi O',\n",
       "       'Captain Morgan White Mini', 'Castillo Silver Rum',\n",
       "       'Rondiaz Rum Spiced Black Cherry', \"Gosling's Black Seal\",\n",
       "       'Admiral Nelson Spiced 101', 'Captain Morgan 1671',\n",
       "       'Cruzan Coconut Rum', 'Paramount White Rum Traveler',\n",
       "       'Don Q Cristal Rum', 'Cruzan 151', 'Cruzan Vanilla Rum',\n",
       "       'Paradise Island Bay', 'Captain Morgan Parrot Bay Passion Fruit',\n",
       "       'Captain Morgan Lime Bite', 'Bacardi 8 Rum', 'Zaya Guatemalan Rum',\n",
       "       'Cruzan Raspberry Rum', 'Cruzan Strawberry Rum',\n",
       "       'Paradise Distilling Raspberry Bay Liqueur', 'Malibu Island Melon',\n",
       "       'Captain Morgan White PET', 'Captain Morgan Coconut',\n",
       "       'Paradise Distilling Coconut Bay Liqueur', 'Malibu Mango Rum',\n",
       "       'Bacardi Raspberry', 'Bacardi Torched Cherry',\n",
       "       'Cedar Ridge Dark Rum', 'Cedar Ridge Lost Pirate Port Finish Rum',\n",
       "       'Ron Zacapa 23 Year', 'Mt. Gay Black Barrel',\n",
       "       'Blue Chair Bay Banana', 'Blue Chair Bay Coconut Spiced',\n",
       "       'Bacardi Gran Reserva Maestro',\n",
       "       'Trader Vics Private Selection Spiced Rum', \"Five O'clock\",\n",
       "       'Calico Jack Cherry', 'Captain Morgan Parrot Bay Orange',\n",
       "       'Captain Morgan Parrot Bay Mango', 'Bacardi Gold Rum Pet',\n",
       "       'Captain Morgan Grapefruit', 'Cruzan Light Rum',\n",
       "       'Blue Chair Bay White', 'Havana Club Anejo Clasico Mini',\n",
       "       'Havana Club Anejo Blanco Mini', 'Captain Morgan Pineapple Mini',\n",
       "       'Havana Club Anejo Blanco', 'Calico Jack', 'Rondiaz Mini',\n",
       "       'Captain Morgan Parrot Bay Key Lime',\n",
       "       'Captain Morgan Parrot Bay Strawberry',\n",
       "       'Cruzan Blueberry Lemonade', 'Admiral Nelson Black Patch',\n",
       "       'Admiral Nelson Black Patch Mini', 'Malibu Red',\n",
       "       'Bacardi Gold Rum PET', 'Captain Morgan Private Stock Rum',\n",
       "       'Clearheart Rum', 'Castillo Spiced Rum',\n",
       "       'Havana Club Anejo Clasico', 'Steel Drum', 'Bacardi Tangerine',\n",
       "       \"British Navy Pusser's Rum\", 'Cane Rune White Rum Mini',\n",
       "       'Cane Run White Rum', 'Havana Judge Spiced Rum',\n",
       "       'Kraken Black Mini', 'Flor De Cana White', 'Artisan Grain Silver',\n",
       "       'Paradise White Sand', 'Paradise Distilling Mango Bay Liqueur',\n",
       "       'Bayou Spiced Rum', 'Cachaca 51', 'Artisan Grain Gold Rum',\n",
       "       'Captain Morgan Loconut Mini', 'Captain Morgan Loconut',\n",
       "       \"Caribbean's Finest Rum Caramel\", \"Caribbean's Finest Rum Coconut\",\n",
       "       \"Caribbean's Finest Rum Ginger\",\n",
       "       \"Caribbean's Finest Rum Gran Reserva\",\n",
       "       \"Caribbean's Finest Rum Orange\",\n",
       "       \"Caribbean's Finest Rum Pineapple\", 'Brugal Especial Extra Dry',\n",
       "       'El Dorado Special Reserve 12YR', 'Don Q 151',\n",
       "       'Paradise Caribbean Mist', 'Breckenridge Spiced Rum',\n",
       "       'Goslings Gold Seal', 'Kirk & Sweeney 12YR Old Anejo',\n",
       "       'Bayou Satsuma Rum Liqueur', 'Ron Barcelo Gran Anejo',\n",
       "       'Vizcaya Black Rum',\n",
       "       \"Sammy's Beach Bar Rum Red Head (Macadamia Nut)\",\n",
       "       'Barton Gold Rum 1.75', 'Bayou Silver White Rum',\n",
       "       'Cruzan Light Mini', 'Koloa Hawaiian Kauai Coffee Rum',\n",
       "       'Cruzan Citrus', 'Bacardi Banana Mini', 'Bacardi Oakheart Mini',\n",
       "       'Don Q Limon', \"Pusser's Gunpowder Proof Rum\",\n",
       "       'El Dorado 15 Year Old Special Reserve Rum', 'Bacardi Banana',\n",
       "       'Bacardi Classic Cocktail Rum Punch', 'Cruzan Passion Fruit',\n",
       "       'Rondiaz DSS Lemon Rum', 'Blue Chair Bay Vanilla Rum',\n",
       "       \"Caribbean's Finest Rum Grapefruit\", 'Sugar Island Rum Coconut',\n",
       "       'Cruzan Tropical Fruit', 'Rondiaz Rum Dark',\n",
       "       'Beach Bonfire Cinnamon Whiskey', 'Beach Island Coconut Whiskey',\n",
       "       'Malibu w/Dole Pineapple Juice',\n",
       "       'Starr Oak Aged 7 year African Rum', 'J Wray Silver',\n",
       "       \"Holstein Single Barrel Sippin' Rum\", 'Prichards Peach Mango Rum',\n",
       "       'Malibu 1.75L w/Pineapple VAP Giant Tray Pack',\n",
       "       'Cruzan Black Cherry', 'La Hechicera Aged Rum', 'Rogue Dark Rum',\n",
       "       'Kirkland Signature Original Spiced Rum', 'Flor De Cana Gold',\n",
       "       'Admiral Nelson Pineapple Rum', 'Caliber Spiced Rum',\n",
       "       'Caliber Silver Rum', 'Holy Hell',\n",
       "       'Blue Chair Bay Coconut Spiced Rum Cream', 'JM VSOP',\n",
       "       'Novo Fogo Silver Cacha�a', 'Flor De Cana 12yr Centenario',\n",
       "       'Admiral Nelson Pineapple', 'RumHaven', 'Admiral Nelson Vanilla',\n",
       "       'Admiral Nelson  101 Mini', 'Members Mark Silver Rum Tray Pack',\n",
       "       'Ron Abuelo Anejo', 'Cruzan Blackstrap', 'Clement VSOP Aged Rum',\n",
       "       'Sailor Jerry Game Day VAP', 'Captain Morgan Jack-O Blast Mini',\n",
       "       'Papas Pilar Dark Rum',\n",
       "       'Captain Morgan 1.75L Retail Ready 3pk Shipper',\n",
       "       'Tattersall Distilling Blackstrap Rum', 'Commanders Spiced Rum',\n",
       "       'Commanders Silver Aged 1YR', 'Papas Pilar Blonde Rum', 'Cruzan 9',\n",
       "       'Bumbu Rum', 'El Dorado 8YR', 'Ron Barcelo Imperial',\n",
       "       'Lemon Hart 1804 Original', 'Lemon Hart 151'], dtype=object)"
      ]
     },
     "execution_count": 307,
     "metadata": {},
     "output_type": "execute_result"
    }
   ],
   "source": [
    "y17[(y17['Category Name']=='White Rum') | (y17['Category Name']=='Spiced Rum') | (y17['Category Name']=='Gold Rum') | (y17['Category Name']=='Flavored Rum') | (y17['Category Name']=='Aged Dark Rum')]['Item Description'].unique()"
   ]
  },
  {
   "cell_type": "code",
   "execution_count": 379,
   "id": "67f64a09",
   "metadata": {},
   "outputs": [
    {
     "data": {
      "text/plain": [
       "array(['100% Agave Tequila'], dtype=object)"
      ]
     },
     "execution_count": 379,
     "metadata": {},
     "output_type": "execute_result"
    }
   ],
   "source": [
    "y17[y17['Item Description'].str.contains('Patron Guillermo Del Toro Extra Anejo & Orange')]['Category Name'].unique()"
   ]
  },
  {
   "cell_type": "code",
   "execution_count": 446,
   "id": "41066ab2",
   "metadata": {},
   "outputs": [
    {
     "data": {
      "text/plain": [
       "array(['El Mayor Extra Anejo', 'El Mayor Extra Anejo 100% Agave HA'],\n",
       "      dtype=object)"
      ]
     },
     "execution_count": 446,
     "metadata": {},
     "output_type": "execute_result"
    }
   ],
   "source": [
    "catnamena[catnamena['Item Description'].str.contains('El Mayor Extra Anejo')]['Item Description'].unique()"
   ]
  },
  {
   "cell_type": "code",
   "execution_count": 448,
   "id": "b978af8b",
   "metadata": {},
   "outputs": [
    {
     "data": {
      "text/plain": [
       "array(['TEQUILA'], dtype=object)"
      ]
     },
     "execution_count": 448,
     "metadata": {},
     "output_type": "execute_result"
    }
   ],
   "source": [
    "catnamena[catnamena['Item Description'].str.contains('El Mayor Extra Anejo 100% Agave HA')]['Category Name'].unique()"
   ]
  },
  {
   "cell_type": "code",
   "execution_count": 439,
   "id": "430b039f",
   "metadata": {},
   "outputs": [
    {
     "data": {
      "text/plain": [
       "array([1011200., 1901200., 1011600., 1011500.])"
      ]
     },
     "execution_count": 439,
     "metadata": {},
     "output_type": "execute_result"
    }
   ],
   "source": [
    "catna[catna['Item Description'].str.contains('Michter')]['Category'].unique()"
   ]
  },
  {
   "cell_type": "code",
   "execution_count": 449,
   "id": "27bbb0c0",
   "metadata": {},
   "outputs": [
    {
     "data": {
      "text/plain": [
       "array([1022100.])"
      ]
     },
     "execution_count": 449,
     "metadata": {},
     "output_type": "execute_result"
    }
   ],
   "source": [
    "y17[y17['Category Name']=='TEQUILA']['Category'].unique()"
   ]
  },
  {
   "cell_type": "markdown",
   "id": "c033e58a",
   "metadata": {},
   "source": [
    "## Compiling results of manual search and replacement of nan values"
   ]
  },
  {
   "cell_type": "code",
   "execution_count": 451,
   "id": "e460ec07",
   "metadata": {},
   "outputs": [],
   "source": [
    "def county_name(x,y):\n",
    "    if (pd.isna(x)) and (y=='GUTTENBERG'):\n",
    "        return 'Clayton'\n",
    "    elif (pd.isna(x)) and (y=='BELMOND'):\n",
    "        return 'Wright'\n",
    "    else:\n",
    "        return x\n",
    "    \n",
    "def county_number(x,y):\n",
    "    if (pd.isna(x)) and (y=='GUTTENBERG'):\n",
    "        return '22.'\n",
    "    elif (pd.isna(x)) and (y=='BELMOND'):\n",
    "        return '99.'\n",
    "    else:\n",
    "        return x\n",
    "\n",
    "    \n",
    "def category_name(x,y):\n",
    "    if (pd.isna(x)) and (y=='Herradura Gold Reposado 6pak'):\n",
    "        return 'TEQUILA'\n",
    "    elif (pd.isna(x)) and (y=='Evan Williams Egg Nog'):\n",
    "        return 'CREAM LIQUEURS'\n",
    "    elif (pd.isna(x)) and (y==\"Carolan's Irish Cream w/2 Bowls\"):\n",
    "        return 'DECANTERS & SPECIALTY PACKAGES'\n",
    "    elif (pd.isna(x)) and (y=='Rogue Dark Rum'):\n",
    "        return 'AGED DARK RUM'\n",
    "    elif (pd.isna(x)) and (y=='Ultimat Vodka'):\n",
    "        return 'IMPORTED VODKA'\n",
    "    elif (pd.isna(x)) and (y=='Herradura Anejo Tequila'):\n",
    "        return 'TEQUILA'\n",
    "    elif (pd.isna(x)) and (y==\"Whaler's Original Dark Rum\"):\n",
    "        return 'SPECIAL ORDER ITEMS'\n",
    "    elif (pd.isna(x)) and (y==\"Wild Turkey American Honey Shot Tap\"):\n",
    "        return 'DECANTERS & SPECIALTY PACKAGES'\n",
    "    elif (pd.isna(x)) and (y==\"Chambord Liqueur w/2 Glasses\"):\n",
    "        return 'DECANTERS & SPECIALTY PACKAGES'\n",
    "    elif (pd.isna(x)) and (y=='Gentleman Jack w/2 Glasses'):\n",
    "        return 'DECANTERS & SPECIALTY PACKAGES'\n",
    "    elif (pd.isna(x)) and (y=='Caravella Limoncello w/Glass'):\n",
    "        return 'DECANTERS & SPECIALTY PACKAGES'\n",
    "    elif (pd.isna(x)) and (y=='Craigellachie'):\n",
    "        return 'SCOTCH WHISKIES'\n",
    "    elif (pd.isna(x)) and (y=='Glenfiddich 1963 Replica HA'):\n",
    "        return 'SINGLE MALT SCOTCH'\n",
    "    elif (pd.isna(x)) and (y=='Pinnacle Candy Cane Trial Pack'):\n",
    "        return 'Holiday VAP'\n",
    "    elif (pd.isna(x)) and (y=='Dry Fly Gin'):\n",
    "        return 'AMERICAN DRY GINS'\n",
    "    elif (pd.isna(x)) and (y==\"Galliano L'Autentico\"):\n",
    "        return 'MISC. IMPORTED CORDIALS & LIQUEURS'\n",
    "    elif (pd.isna(x)) and (y=='1800 Reposado'):\n",
    "        return 'TEQUILA'\n",
    "    elif (pd.isna(x)) and (y=='Grand Marnier Cuvee 1880 HA'):\n",
    "        return 'Imported Cordials & Liqueur'\n",
    "    elif (pd.isna(x)) and (y=='Courvoisier Gold'):\n",
    "        return 'MISC. IMPORTED CORDIALS & LIQUEURS'\n",
    "    elif (pd.isna(x)) and (y=='Ardbeg Auriverdes HA'):\n",
    "        return 'SINGLE MALT SCOTCH'\n",
    "    else:\n",
    "        return x\n",
    "    \n",
    "def category(x,y):\n",
    "    if (pd.isna(x)) and (y=='Evan Williams Egg Nog'):\n",
    "        return '1081200.'\n",
    "    elif (pd.isna(x)) and (y==\"Carolan's Irish Cream w/2 Bowls\"):\n",
    "        return '1701100.'\n",
    "    elif (pd.isna(x)) and (y==\"Wild Turkey American Honey Shot Tap\"):\n",
    "        return '1701100.'\n",
    "    elif (pd.isna(x)) and (y==\"Chambord Liqueur w/2 Glasses\"):\n",
    "        return '1701100.'\n",
    "    elif (pd.isna(x)) and (y=='Gentleman Jack w/2 Glasses'):\n",
    "        return '1701100.'\n",
    "    elif (pd.isna(x)) and (y=='Caravella Limoncello w/Glass'):\n",
    "        return '1701100.'\n",
    "    elif (pd.isna(x)) and (y=='Craigellachie'):\n",
    "        return '1012200.'\n",
    "    elif (pd.isna(x)) and (y=='Glenfiddich 1963 Replica HA'):\n",
    "        return '1012210.'\n",
    "    elif (pd.isna(x)) and (y=='Pinnacle Candy Cane Trial Pack'):\n",
    "        return '1701200.'\n",
    "    elif (pd.isna(x)) and (y=='Dry Fly Gin'):\n",
    "        return '1041100.'\n",
    "    elif (pd.isna(x)) and (y==\"Galliano L'Autentico\"):\n",
    "        return '1082900.'\n",
    "    elif (pd.isna(x)) and (y=='1800 Reposado'):\n",
    "        return '1022200.'\n",
    "    elif (pd.isna(x)) and (y=='Grand Marnier Cuvee 1880 HA'):\n",
    "        return '1082100.'\n",
    "    elif (pd.isna(x)) and (y=='Courvoisier Gold'):\n",
    "        return '1082900.'\n",
    "    elif (pd.isna(x)) and (y=='Ardbeg Auriverdes HA'):\n",
    "        return '1012210.'\n",
    "    else:\n",
    "        return x"
   ]
  },
  {
   "cell_type": "code",
   "execution_count": 454,
   "id": "7c8d9bd9",
   "metadata": {},
   "outputs": [],
   "source": [
    "def category_name2(x,y):\n",
    "    if (pd.isna(x)):\n",
    "        if (y==\"Galliano L'Autentico\"):\n",
    "            return 'MISC. IMPORTED CORDIALS & LIQUEURS'\n",
    "        elif (y=='Spanish Single Malt 100ml'):\n",
    "            return 'SINGLE MALT SCOTCH'\n",
    "        elif (y=='Spanish Single Malt 1 Liter'):\n",
    "            return 'SINGLE MALT SCOTCH'\n",
    "        elif (y=='Spanish Single Malt 375ml'):\n",
    "            return 'SINGLE MALT SCOTCH'\n",
    "        elif (y=='Spanish Single Malt 50ml'):\n",
    "            return 'SINGLE MALT SCOTCH'\n",
    "        elif (y=='Spanish Single Malt 750ml'):\n",
    "            return 'SINGLE MALT SCOTCH'\n",
    "        elif (y=='Spanish Single Malt 200ml'):\n",
    "            return 'SINGLE MALT SCOTCH'\n",
    "        elif (y=='Deep Eddy  Lemon Vodka'):\n",
    "            return 'VODKA FLAVORED'\n",
    "        elif (y=='\"Beefeater \"\"24\"\"\"'):\n",
    "            return 'IMPORTED DRY GINS'\n",
    "        elif (y=='Ansac VS  Cognac'):\n",
    "            return 'Imported Brandies'\n",
    "        elif (y=='Aalborg Jubilaeums Aquavit'):\n",
    "            return 'Imported Cordials & Liqueur'\n",
    "        elif (y=='Patron Silver 750 Box Tray Pack'):\n",
    "            return 'DECANTERS & SPECIALTY PACKAGES'\n",
    "        elif (y=='Patron Citronge Mango'):\n",
    "            return '100% Agave Tequila'\n",
    "        elif (y=='Deanston Organic 14YR'):\n",
    "            return 'SINGLE MALT SCOTCH'\n",
    "        elif (y=='HA Orphan Barrel Barterhouse'):\n",
    "            return 'STRAIGHT BOURBON WHISKIES'\n",
    "        elif (y=='HA Orphan Barrel Forged Oak'):\n",
    "            return 'STRAIGHT BOURBON WHISKIES'\n",
    "        elif (y=='Rothman & Winter Orchard Peach'):\n",
    "            return 'MISC. IMPORTED CORDIALS & LIQUEURS'\n",
    "        elif (y=='HA Pikesville Rye 110prf'):\n",
    "            return 'STRAIGHT RYE WHISKIES'\n",
    "        elif (y=='HA Johnnie Walker Private Collection 2014 Smoke'):\n",
    "            return 'SCOTCH WHISKIES'\n",
    "        elif (y=='Jose Cuervo Especial Silver/Flask'):\n",
    "            return 'DECANTERS & SPECIALTY PACKAGES'\n",
    "        elif (y=='Jose Cuervo Especial Gold /Flask'):\n",
    "            return  'DECANTERS & SPECIALTY PACKAGES'\n",
    "        elif (y==\"Aberlour A''bunadh\"):\n",
    "            return 'SINGLE MALT SCOTCH'\n",
    "        elif (y=='El Mayor Extra Anejo 100% Agave'):\n",
    "            return 'TEQUILA'\n",
    "        elif (y=='Ezra Brooks Bourbon Cream Mini'):\n",
    "            return 'Temporary & Specialty Packages'\n",
    "        elif (y==\"Michter's US*1 SB Rye\"):\n",
    "            return 'STRAIGHT RYE WHISKIES'\n",
    "        elif (y=='Glen Moray Scotch Classic Port Cask w/2 Glasses'):\n",
    "            return  'DECANTERS & SPECIALTY PACKAGES'\n",
    "        elif (y=='Zaya Gran Reserva Rum w/2 Rocks Glasses'):\n",
    "            return   'DECANTERS & SPECIALTY PACKAGES'\n",
    "        elif (y=='Corralejo Silver w/2 Sangrita Glasses'):\n",
    "            return  'DECANTERS & SPECIALTY PACKAGES'\n",
    "        elif (y=='Southern Comfort w/2 Rock Glasses'):\n",
    "            return  'DECANTERS & SPECIALTY PACKAGES'\n",
    "        elif (y=='Crystal Head Vodka w/2 Skull Glasses'):\n",
    "            return  'DECANTERS & SPECIALTY PACKAGES'\n",
    "        elif (y=='Hornitos Plata w/Glasses'):\n",
    "            return  'DECANTERS & SPECIALTY PACKAGES'\n",
    "        elif (y=='Hornitos Reposado w/Glasses'):\n",
    "            return   'DECANTERS & SPECIALTY PACKAGES'\n",
    "        elif (y=='Glen Moray Classic Chardonnay Cask Finish w/2 Glasses'):\n",
    "            return  'DECANTERS & SPECIALTY PACKAGES'\n",
    "        else:\n",
    "            return x\n",
    "    else:\n",
    "        return x\n",
    "              \n",
    "\n",
    "def category2(x,y):\n",
    "    if (pd.isna(x)):\n",
    "        if (y==\"Galliano L'Autentico\"):\n",
    "            return '1082900.'\n",
    "        elif (y=='Spanish Single Malt 100ml'):\n",
    "            return '1012210.'\n",
    "        elif (y=='Spanish Single Malt 1 Liter'):\n",
    "            return  '1012210.'\n",
    "        elif (y=='Spanish Single Malt 375ml'):\n",
    "            return  '1012210.'\n",
    "        elif (y=='Spanish Single Malt 50ml'):\n",
    "            return  '1012210.'\n",
    "        elif (y=='Spanish Single Malt 750ml'):\n",
    "            return  '1012210.'\n",
    "        elif (y=='Spanish Single Malt 200ml'):\n",
    "            return  '1012210.'\n",
    "        elif (y=='Deep Eddy Lemon Vodka'):\n",
    "            return '1031200.'\n",
    "        elif (y=='\"Beefeater \"\"24\"\"\"'):\n",
    "            return '1042100.'\n",
    "        elif (y=='Ansac VS  Cognac'):\n",
    "            return '1052100.'\n",
    "        elif (y=='Aalborg Jubilaeums Aquavit'):\n",
    "            return '1082100.'\n",
    "        elif (y=='Patron Silver 750 Box Tray Pack'):\n",
    "            return  '1701100.'\n",
    "        elif (y=='Patron Citronge Mango'):\n",
    "            return '1022200.'\n",
    "        elif (y=='Deanston Organic 14YR'):\n",
    "            return '1012210.'\n",
    "        elif (y=='HA Orphan Barrel Barterhouse'):\n",
    "            return '1011200.'\n",
    "        elif (y=='HA Orphan Barrel Forged Oak'):\n",
    "            return '1011200.'\n",
    "        elif (y=='Rothman & Winter Orchard Peach'):\n",
    "            return '1082900.'\n",
    "        elif (y=='HA Pikesville Rye 110prf'):\n",
    "            return '1011500.'\n",
    "        elif (y=='HA Johnnie Walker Private Collection 2014 Smoke'):\n",
    "            return '1012200.'\n",
    "        elif (y=='Jose Cuervo Especial Silver/Flask'):\n",
    "            return '1701100.'\n",
    "        elif (y=='Jose Cuervo Especial Gold /Flask'):\n",
    "            return '1701100.'\n",
    "        elif (y==\"Aberlour A''bunadh\"):\n",
    "            return '1012210.'\n",
    "        elif (y=='El Mayor Extra Anejo 100% Agave'):\n",
    "            return '1022100.'\n",
    "        elif (y=='Ezra Brooks Bourbon Cream Mini'):\n",
    "            return '1701100.'\n",
    "        elif (y==\"Michter's US*1 SB Rye\"):\n",
    "            return '1011500.'\n",
    "        elif (y=='Glen Moray Scotch Classic Port Cask w/2 Glasses'):\n",
    "            return '1701100.'\n",
    "        elif (y=='Zaya Gran Reserva Rum w/2 Rocks Glasses'):\n",
    "            return  '1701100.'\n",
    "        elif (y=='Corralejo Silver w/2 Sangrita Glasses'):\n",
    "            return '1701100.'\n",
    "        elif (y=='Southern Comfort w/2 Rock Glasses'):\n",
    "            return '1701100.'\n",
    "        elif (y=='Crystal Head Vodka w/2 Skull Glasses'):\n",
    "            return '1701100.'\n",
    "        elif (y=='Hornitos Plata w/Glasses'):\n",
    "            return '1701100.'\n",
    "        elif (y=='Hornitos Reposado w/Glasses'):\n",
    "            return  '1701100.'\n",
    "        elif (y=='Glen Moray Classic Chardonnay Cask Finish w/2 Glasses'):\n",
    "            return '1701100.'\n",
    "        else:\n",
    "            return x\n",
    "    else:\n",
    "        return x\n",
    "              "
   ]
  },
  {
   "cell_type": "code",
   "execution_count": 456,
   "id": "a85bd4c5",
   "metadata": {},
   "outputs": [],
   "source": [
    "# testing results of manual replacements\n",
    "ytest17['Category']=list(map(category2,ytest17['Category'],ytest17['Item Description']))"
   ]
  },
  {
   "cell_type": "code",
   "execution_count": 457,
   "id": "df1be283",
   "metadata": {},
   "outputs": [],
   "source": [
    "ytest17['Category Name']=list(map(category_name2,ytest17['Category Name'],ytest17['Item Description']))"
   ]
  },
  {
   "cell_type": "code",
   "execution_count": 458,
   "id": "69b3902f",
   "metadata": {},
   "outputs": [
    {
     "data": {
      "text/plain": [
       "Unnamed: 0                 0\n",
       "Invoice/Item Number        0\n",
       "Date                       0\n",
       "Store Number               0\n",
       "Store Name                 0\n",
       "Address                    0\n",
       "City                       0\n",
       "Zip Code                   0\n",
       "Store Location             0\n",
       "County Number              0\n",
       "County                     0\n",
       "Category                 128\n",
       "Category Name            126\n",
       "Vendor Number              0\n",
       "Vendor Name                0\n",
       "Item Number                0\n",
       "Item Description           0\n",
       "Pack                       0\n",
       "Bottle Volume (ml)         0\n",
       "State Bottle Cost          0\n",
       "State Bottle Retail        0\n",
       "Bottles Sold               0\n",
       "Sale (Dollars)             0\n",
       "Volume Sold (Liters)       0\n",
       "Volume Sold (Gallons)      0\n",
       "Year                       0\n",
       "dtype: int64"
      ]
     },
     "execution_count": 458,
     "metadata": {},
     "output_type": "execute_result"
    }
   ],
   "source": [
    "# much much better\n",
    "ytest17.isna().sum()"
   ]
  },
  {
   "cell_type": "code",
   "execution_count": 320,
   "id": "782d075c",
   "metadata": {},
   "outputs": [
    {
     "data": {
      "text/plain": [
       "array([], dtype=object)"
      ]
     },
     "execution_count": 320,
     "metadata": {},
     "output_type": "execute_result"
    }
   ],
   "source": [
    "ytest17[ytest17['Category']=='Bains Cape Mountain Whiskey']['Category Name'].unique()"
   ]
  },
  {
   "cell_type": "markdown",
   "id": "f2289867",
   "metadata": {},
   "source": [
    "# Condensed Version of Above Work"
   ]
  },
  {
   "cell_type": "code",
   "execution_count": 3,
   "id": "c2b47773",
   "metadata": {},
   "outputs": [],
   "source": [
    "sall=pd.concat([y17[['Store Number','Address']],y16[['Store Number','Address']],y15[['Store Number','Address']],y14[['Store Number','Address']],y13[['Store Number','Address']],y12[['Store Number','Address']]])\n",
    "sall=sall[sall['Address'].notna()]\n",
    "sall.drop_duplicates(subset=['Store Number'],inplace=True)\n",
    "slall=pd.concat([y17[['Store Number','Store Location']],y16[['Store Number','Store Location']],y15[['Store Number','Store Location']],y14[['Store Number','Store Location']],y13[['Store Number','Store Location']],y12[['Store Number','Store Location']]])\n",
    "slall=slall[slall['Store Location'].notna()]\n",
    "slall.drop_duplicates(subset=['Store Number'],inplace=True)\n",
    "zipna=pd.concat([y17[['Store Number','Zip Code']],y16[['Store Number','Zip Code']],y15[['Store Number','Zip Code']],y14[['Store Number','Zip Code']],y13[['Store Number','Zip Code']],y12[['Store Number','Zip Code']]])\n",
    "zipna=zipna[zipna['Zip Code'].notna()]\n",
    "zipna.drop_duplicates(subset=['Store Number'],inplace=True)\n",
    "countyna=pd.concat([y17[['Store Number','County']],y16[['Store Number','County']],y15[['Store Number','County']],y14[['Store Number','County']],y13[['Store Number','County']],y12[['Store Number','County']]])\n",
    "countyna=countyna[countyna['County'].notna()]\n",
    "countyna.drop_duplicates(subset=['Store Number'],inplace=True)\n",
    "countynumna=pd.concat([y17[['Store Number','County Number']],y16[['Store Number','County Number']],y15[['Store Number','County Number']],y14[['Store Number','County Number']],y13[['Store Number','County Number']],y12[['Store Number','County Number']]])\n",
    "countynumna=countynumna[countynumna['County Number'].notna()]\n",
    "countynumna.drop_duplicates(subset=['Store Number'],inplace=True)\n",
    "cityna=pd.concat([y17[['Store Number','City']],y16[['Store Number','City']],y15[['Store Number','City']],y14[['Store Number','City']],y13[['Store Number','City']],y12[['Store Number','City']]])\n",
    "cityna=cityna[cityna['City'].notna()]\n",
    "cityna.drop_duplicates(subset=['Store Number'],inplace=True)\n",
    "catna=pd.concat([y17[['Item Description','Category']],y16[['Item Description','Category']],y15[['Item Description','Category']],y14[['Item Description','Category']],y13[['Item Description','Category']],y12[['Item Description','Category']]])\n",
    "catna=catna[catna['Category'].notna()]\n",
    "catna.drop_duplicates(subset=['Item Description'],inplace=True)\n",
    "catnamena=pd.concat([y17[['Item Description','Category Name']],y16[['Item Description','Category Name']],y15[['Item Description','Category Name']],y14[['Item Description','Category Name']],y13[['Item Description','Category Name']],y12[['Item Description','Category Name']]])\n",
    "catnamena=catnamena[catnamena['Category Name'].notna()]\n",
    "catnamena.drop_duplicates(subset=['Item Description'],inplace=True)\n",
    "vennumna=pd.concat([y17[['Item Description','Vendor Name']],y16[['Item Description','Vendor Name']],y15[['Item Description','Vendor Name']],y14[['Item Description','Vendor Name']],y13[['Item Description','Vendor Name']],y12[['Item Description','Vendor Name']]])\n",
    "vennumna=vennumna[vennumna['Vendor Name'].notna()]\n",
    "vennumna.drop_duplicates(subset=['Item Description'],inplace=True)\n",
    "vennum=pd.concat([y17[['Item Description','Vendor Number']],y16[['Item Description','Vendor Number']],y15[['Item Description','Vendor Number']],y14[['Item Description','Vendor Number']],y13[['Item Description','Vendor Number']],y12[['Item Description','Vendor Number']]])\n",
    "vennum=vennum[vennum['Vendor Number'].notna()]\n",
    "vennum.drop_duplicates(subset=['Item Description'],inplace=True)"
   ]
  },
  {
   "cell_type": "code",
   "execution_count": null,
   "id": "e74f2b5c",
   "metadata": {},
   "outputs": [],
   "source": [
    "sall.to_csv('storenumaddress.csv')\n",
    "slall.to_csv('storenumlocation.csv')\n",
    "zipna.to_csv('storenumzip.csv')\n",
    "countyna.to_csv('storenumcounty.csv')\n",
    "countynumna.to_csv('storenumcountynum.csv')\n",
    "cityna.to_csv('storenumcity.csv')\n",
    "catna.to_csv('idcategory.csv')\n",
    "catnamena.to_csv('idcategoryname.csv')\n",
    "vennumna.to_csv('storenumvendorname.csv')\n",
    "vennum.to_csv('storenumvendornumber.csv')"
   ]
  },
  {
   "cell_type": "code",
   "execution_count": 9,
   "id": "c52e8ee3",
   "metadata": {},
   "outputs": [],
   "source": [
    "def county_name(x,y):\n",
    "    if (pd.isna(x)) and (y=='GUTTENBERG'):\n",
    "        return 'Clayton'\n",
    "    elif (pd.isna(x)) and (y=='BELMOND'):\n",
    "        return 'Wright'\n",
    "    else:\n",
    "        return x\n",
    "    \n",
    "def county_number(x,y):\n",
    "    if (pd.isna(x)) and (y=='GUTTENBERG'):\n",
    "        return '22.'\n",
    "    elif (pd.isna(x)) and (y=='BELMOND'):\n",
    "        return '99.'\n",
    "    else:\n",
    "        return x\n",
    "\n",
    "    \n",
    "def category_name(x,y):\n",
    "    if (pd.isna(x)) and (y=='Herradura Gold Reposado 6pak'):\n",
    "        return 'TEQUILA'\n",
    "    elif (pd.isna(x)) and (y=='Evan Williams Egg Nog'):\n",
    "        return 'CREAM LIQUEURS'\n",
    "    elif (pd.isna(x)) and (y==\"Carolan's Irish Cream w/2 Bowls\"):\n",
    "        return 'DECANTERS & SPECIALTY PACKAGES'\n",
    "    elif (pd.isna(x)) and (y=='Rogue Dark Rum'):\n",
    "        return 'AGED DARK RUM'\n",
    "    elif (pd.isna(x)) and (y=='Ultimat Vodka'):\n",
    "        return 'IMPORTED VODKA'\n",
    "    elif (pd.isna(x)) and (y=='Herradura Anejo Tequila'):\n",
    "        return 'TEQUILA'\n",
    "    elif (pd.isna(x)) and (y==\"Whaler's Original Dark Rum\"):\n",
    "        return 'SPECIAL ORDER ITEMS'\n",
    "    elif (pd.isna(x)) and (y==\"Wild Turkey American Honey Shot Tap\"):\n",
    "        return 'DECANTERS & SPECIALTY PACKAGES'\n",
    "    elif (pd.isna(x)) and (y==\"Chambord Liqueur w/2 Glasses\"):\n",
    "        return 'DECANTERS & SPECIALTY PACKAGES'\n",
    "    elif (pd.isna(x)) and (y=='Gentleman Jack w/2 Glasses'):\n",
    "        return 'DECANTERS & SPECIALTY PACKAGES'\n",
    "    elif (pd.isna(x)) and (y=='Caravella Limoncello w/Glass'):\n",
    "        return 'DECANTERS & SPECIALTY PACKAGES'\n",
    "    elif (pd.isna(x)) and (y=='Craigellachie'):\n",
    "        return 'SCOTCH WHISKIES'\n",
    "    elif (pd.isna(x)) and (y=='Glenfiddich 1963 Replica HA'):\n",
    "        return 'SINGLE MALT SCOTCH'\n",
    "    elif (pd.isna(x)) and (y=='Pinnacle Candy Cane Trial Pack'):\n",
    "        return 'Holiday VAP'\n",
    "    elif (pd.isna(x)) and (y=='Dry Fly Gin'):\n",
    "        return 'AMERICAN DRY GINS'\n",
    "    elif (pd.isna(x)) and (y==\"Galliano L'Autentico\"):\n",
    "        return 'MISC. IMPORTED CORDIALS & LIQUEURS'\n",
    "    elif (pd.isna(x)) and (y=='1800 Reposado'):\n",
    "        return 'TEQUILA'\n",
    "    elif (pd.isna(x)) and (y=='Grand Marnier Cuvee 1880 HA'):\n",
    "        return 'Imported Cordials & Liqueur'\n",
    "    elif (pd.isna(x)) and (y=='Courvoisier Gold'):\n",
    "        return 'MISC. IMPORTED CORDIALS & LIQUEURS'\n",
    "    elif (pd.isna(x)) and (y=='Ardbeg Auriverdes HA'):\n",
    "        return 'SINGLE MALT SCOTCH'\n",
    "    else:\n",
    "        return x\n",
    "    \n",
    "def category(x,y):\n",
    "    if (pd.isna(x)) and (y=='Evan Williams Egg Nog'):\n",
    "        return '1081200.'\n",
    "    elif (pd.isna(x)) and (y==\"Carolan's Irish Cream w/2 Bowls\"):\n",
    "        return '1701100.'\n",
    "    elif (pd.isna(x)) and (y==\"Wild Turkey American Honey Shot Tap\"):\n",
    "        return '1701100.'\n",
    "    elif (pd.isna(x)) and (y==\"Chambord Liqueur w/2 Glasses\"):\n",
    "        return '1701100.'\n",
    "    elif (pd.isna(x)) and (y=='Gentleman Jack w/2 Glasses'):\n",
    "        return '1701100.'\n",
    "    elif (pd.isna(x)) and (y=='Caravella Limoncello w/Glass'):\n",
    "        return '1701100.'\n",
    "    elif (pd.isna(x)) and (y=='Craigellachie'):\n",
    "        return '1012200.'\n",
    "    elif (pd.isna(x)) and (y=='Glenfiddich 1963 Replica HA'):\n",
    "        return '1012210.'\n",
    "    elif (pd.isna(x)) and (y=='Pinnacle Candy Cane Trial Pack'):\n",
    "        return '1701200.'\n",
    "    elif (pd.isna(x)) and (y=='Dry Fly Gin'):\n",
    "        return '1041100.'\n",
    "    elif (pd.isna(x)) and (y==\"Galliano L'Autentico\"):\n",
    "        return '1082900.'\n",
    "    elif (pd.isna(x)) and (y=='1800 Reposado'):\n",
    "        return '1022200.'\n",
    "    elif (pd.isna(x)) and (y=='Grand Marnier Cuvee 1880 HA'):\n",
    "        return '1082100.'\n",
    "    elif (pd.isna(x)) and (y=='Courvoisier Gold'):\n",
    "        return '1082900.'\n",
    "    elif (pd.isna(x)) and (y=='Ardbeg Auriverdes HA'):\n",
    "        return '1012210.'\n",
    "    else:\n",
    "        return x"
   ]
  },
  {
   "cell_type": "code",
   "execution_count": 4,
   "id": "f93e9b0c",
   "metadata": {},
   "outputs": [],
   "source": [
    "vennumdict={}\n",
    "for i in vennum['Item Description']:\n",
    "    vennumdict[i]=vennum[vennum['Item Description']==i]['Vendor Number'].values[0]\n",
    "vennumnadict={}\n",
    "for i in vennumna['Item Description']:\n",
    "    vennumnadict[i]=vennumna[vennumna['Item Description']==i]['Vendor Name'].values[0]\n",
    "catnamedict={}\n",
    "for i in catnamena['Item Description']:\n",
    "    catnamedict[i]=catnamena[catnamena['Item Description']==i]['Category Name'].values[0]\n",
    "catdict={}\n",
    "for i in catna['Item Description']:\n",
    "    catdict[i]=catna[catna['Item Description']==i]['Category'].values[0]\n",
    "citydict={}\n",
    "for i in cityna['Store Number']:\n",
    "    citydict[i]=cityna[cityna['Store Number']==i]['City'].values[0]\n",
    "countynumdict={}\n",
    "for i in countynumna['Store Number']:\n",
    "    countynumdict[i]=countynumna[countynumna['Store Number']==i]['County Number'].values[0]\n",
    "slalldict={}\n",
    "for i in slall['Store Number']:\n",
    "    slalldict[i]=slall[slall['Store Number']==i]['Store Location'].values[0]\n",
    "salldict={}\n",
    "for i in sall['Store Number']:\n",
    "    salldict[i]=sall[sall['Store Number']==i]['Address'].values[0]\n",
    "zipdict={}\n",
    "for i in zipna['Store Number']:\n",
    "    zipdict[i]=zipna[zipna['Store Number']==i]['Zip Code'].values[0]\n",
    "countydict={}\n",
    "for i in countyna['Store Number']:\n",
    "    countydict[i]=countyna[countyna['Store Number']==i]['County'].values[0]"
   ]
  },
  {
   "cell_type": "code",
   "execution_count": 5,
   "id": "fa67ae03",
   "metadata": {},
   "outputs": [],
   "source": [
    "def category_name2(x,y):\n",
    "    if (pd.isna(x)):\n",
    "        if (y==\"Galliano L'Autentico\"):\n",
    "            return 'MISC. IMPORTED CORDIALS & LIQUEURS'\n",
    "        elif (y=='Spanish Single Malt 100ml'):\n",
    "            return 'SINGLE MALT SCOTCH'\n",
    "        elif (y=='Spanish Single Malt 1 Liter'):\n",
    "            return 'SINGLE MALT SCOTCH'\n",
    "        elif (y=='Spanish Single Malt 375ml'):\n",
    "            return 'SINGLE MALT SCOTCH'\n",
    "        elif (y=='Spanish Single Malt 50ml'):\n",
    "            return 'SINGLE MALT SCOTCH'\n",
    "        elif (y=='Spanish Single Malt 750ml'):\n",
    "            return 'SINGLE MALT SCOTCH'\n",
    "        elif (y=='Spanish Single Malt 200ml'):\n",
    "            return 'SINGLE MALT SCOTCH'\n",
    "        elif (y=='Deep Eddy  Lemon Vodka'):\n",
    "            return 'VODKA FLAVORED'\n",
    "        elif (y=='\"Beefeater \"\"24\"\"\"'):\n",
    "            return 'IMPORTED DRY GINS'\n",
    "        elif (y=='Ansac VS  Cognac'):\n",
    "            return 'Imported Brandies'\n",
    "        elif (y=='Aalborg Jubilaeums Aquavit'):\n",
    "            return 'Imported Cordials & Liqueur'\n",
    "        elif (y=='Patron Silver 750 Box Tray Pack'):\n",
    "            return 'DECANTERS & SPECIALTY PACKAGES'\n",
    "        elif (y=='Patron Citronge Mango'):\n",
    "            return '100% Agave Tequila'\n",
    "        elif (y=='Deanston Organic 14YR'):\n",
    "            return 'SINGLE MALT SCOTCH'\n",
    "        elif (y=='HA Orphan Barrel Barterhouse'):\n",
    "            return 'STRAIGHT BOURBON WHISKIES'\n",
    "        elif (y=='HA Orphan Barrel Forged Oak'):\n",
    "            return 'STRAIGHT BOURBON WHISKIES'\n",
    "        elif (y=='Rothman & Winter Orchard Peach'):\n",
    "            return 'MISC. IMPORTED CORDIALS & LIQUEURS'\n",
    "        elif (y=='HA Pikesville Rye 110prf'):\n",
    "            return 'STRAIGHT RYE WHISKIES'\n",
    "        elif (y=='HA Johnnie Walker Private Collection 2014 Smoke'):\n",
    "            return 'SCOTCH WHISKIES'\n",
    "        elif (y=='Jose Cuervo Especial Silver/Flask'):\n",
    "            return 'DECANTERS & SPECIALTY PACKAGES'\n",
    "        elif (y=='Jose Cuervo Especial Gold /Flask'):\n",
    "            return  'DECANTERS & SPECIALTY PACKAGES'\n",
    "        elif (y==\"Aberlour A''bunadh\"):\n",
    "            return 'SINGLE MALT SCOTCH'\n",
    "        elif (y=='El Mayor Extra Anejo 100% Agave'):\n",
    "            return 'TEQUILA'\n",
    "        elif (y=='Ezra Brooks Bourbon Cream Mini'):\n",
    "            return 'Temporary & Specialty Packages'\n",
    "        elif (y==\"Michter's US*1 SB Rye\"):\n",
    "            return 'STRAIGHT RYE WHISKIES'\n",
    "        elif (y=='Glen Moray Scotch Classic Port Cask w/2 Glasses'):\n",
    "            return  'DECANTERS & SPECIALTY PACKAGES'\n",
    "        elif (y=='Zaya Gran Reserva Rum w/2 Rocks Glasses'):\n",
    "            return   'DECANTERS & SPECIALTY PACKAGES'\n",
    "        elif (y=='Corralejo Silver w/2 Sangrita Glasses'):\n",
    "            return  'DECANTERS & SPECIALTY PACKAGES'\n",
    "        elif (y=='Southern Comfort w/2 Rock Glasses'):\n",
    "            return  'DECANTERS & SPECIALTY PACKAGES'\n",
    "        elif (y=='Crystal Head Vodka w/2 Skull Glasses'):\n",
    "            return  'DECANTERS & SPECIALTY PACKAGES'\n",
    "        elif (y=='Hornitos Plata w/Glasses'):\n",
    "            return  'DECANTERS & SPECIALTY PACKAGES'\n",
    "        elif (y=='Hornitos Reposado w/Glasses'):\n",
    "            return   'DECANTERS & SPECIALTY PACKAGES'\n",
    "        elif (y=='Glen Moray Classic Chardonnay Cask Finish w/2 Glasses'):\n",
    "            return  'DECANTERS & SPECIALTY PACKAGES'\n",
    "        else:\n",
    "            return x\n",
    "    else:\n",
    "        return x\n",
    "              \n",
    "\n",
    "def category2(x,y):\n",
    "    if (pd.isna(x)):\n",
    "        if (y==\"Galliano L'Autentico\"):\n",
    "            return '1082900.'\n",
    "        elif (y=='Spanish Single Malt 100ml'):\n",
    "            return '1012210.'\n",
    "        elif (y=='Spanish Single Malt 1 Liter'):\n",
    "            return  '1012210.'\n",
    "        elif (y=='Spanish Single Malt 375ml'):\n",
    "            return  '1012210.'\n",
    "        elif (y=='Spanish Single Malt 50ml'):\n",
    "            return  '1012210.'\n",
    "        elif (y=='Spanish Single Malt 750ml'):\n",
    "            return  '1012210.'\n",
    "        elif (y=='Spanish Single Malt 200ml'):\n",
    "            return  '1012210.'\n",
    "        elif (y=='Deep Eddy Lemon Vodka'):\n",
    "            return '1031200.'\n",
    "        elif (y=='\"Beefeater \"\"24\"\"\"'):\n",
    "            return '1042100.'\n",
    "        elif (y=='Ansac VS  Cognac'):\n",
    "            return '1052100.'\n",
    "        elif (y=='Aalborg Jubilaeums Aquavit'):\n",
    "            return '1082100.'\n",
    "        elif (y=='Patron Silver 750 Box Tray Pack'):\n",
    "            return  '1701100.'\n",
    "        elif (y=='Patron Citronge Mango'):\n",
    "            return '1022200.'\n",
    "        elif (y=='Deanston Organic 14YR'):\n",
    "            return '1012210.'\n",
    "        elif (y=='HA Orphan Barrel Barterhouse'):\n",
    "            return '1011200.'\n",
    "        elif (y=='HA Orphan Barrel Forged Oak'):\n",
    "            return '1011200.'\n",
    "        elif (y=='Rothman & Winter Orchard Peach'):\n",
    "            return '1082900.'\n",
    "        elif (y=='HA Pikesville Rye 110prf'):\n",
    "            return '1011500.'\n",
    "        elif (y=='HA Johnnie Walker Private Collection 2014 Smoke'):\n",
    "            return '1012200.'\n",
    "        elif (y=='Jose Cuervo Especial Silver/Flask'):\n",
    "            return '1701100.'\n",
    "        elif (y=='Jose Cuervo Especial Gold /Flask'):\n",
    "            return '1701100.'\n",
    "        elif (y==\"Aberlour A''bunadh\"):\n",
    "            return '1012210.'\n",
    "        elif (y=='El Mayor Extra Anejo 100% Agave'):\n",
    "            return '1022100.'\n",
    "        elif (y=='Ezra Brooks Bourbon Cream Mini'):\n",
    "            return '1701100.'\n",
    "        elif (y==\"Michter's US*1 SB Rye\"):\n",
    "            return '1011500.'\n",
    "        elif (y=='Glen Moray Scotch Classic Port Cask w/2 Glasses'):\n",
    "            return '1701100.'\n",
    "        elif (y=='Zaya Gran Reserva Rum w/2 Rocks Glasses'):\n",
    "            return  '1701100.'\n",
    "        elif (y=='Corralejo Silver w/2 Sangrita Glasses'):\n",
    "            return '1701100.'\n",
    "        elif (y=='Southern Comfort w/2 Rock Glasses'):\n",
    "            return '1701100.'\n",
    "        elif (y=='Crystal Head Vodka w/2 Skull Glasses'):\n",
    "            return '1701100.'\n",
    "        elif (y=='Hornitos Plata w/Glasses'):\n",
    "            return '1701100.'\n",
    "        elif (y=='Hornitos Reposado w/Glasses'):\n",
    "            return  '1701100.'\n",
    "        elif (y=='Glen Moray Classic Chardonnay Cask Finish w/2 Glasses'):\n",
    "            return '1701100.'\n",
    "        else:\n",
    "            return x\n",
    "    else:\n",
    "        return x\n",
    "              "
   ]
  },
  {
   "cell_type": "code",
   "execution_count": 6,
   "id": "3c6ffe54",
   "metadata": {},
   "outputs": [],
   "source": [
    "def get_category_name(x,y):\n",
    "    storelist=list(catnamedict.keys())\n",
    "    if (pd.isna(x)) and (y in storelist):\n",
    "        return catnamedict[y]\n",
    "    else:\n",
    "        return x\n",
    "def get_category(x,y):\n",
    "    storelist=list(catdict.keys())\n",
    "    if (pd.isna(x)) and (y in storelist):\n",
    "        return catdict[y]\n",
    "    else:\n",
    "        return x\n",
    "def get_address(x,y):\n",
    "    storelist=list(salldict.keys())\n",
    "    if (pd.isna(x)) & (y in storelist):\n",
    "        return salldict[y]\n",
    "    else:\n",
    "        return x\n",
    "def get_store_location(x,y):\n",
    "    storelist=list(slalldict.keys())\n",
    "    if (pd.isna(x)) & (y in storelist):\n",
    "        return slalldict[y]\n",
    "    else:\n",
    "        return x\n",
    "def get_zip(x,y):\n",
    "    storelist=list(zipdict.keys())\n",
    "    if (pd.isna(x)) and (y in storelist):\n",
    "        return zipdict[y]\n",
    "    else:\n",
    "        return x\n",
    "def get_county(x,y):\n",
    "    storelist=list(countydict.keys())\n",
    "    if (pd.isna(x)) and (y in storelist):\n",
    "        return countydict[y]\n",
    "    else:\n",
    "        return x\n",
    "def get_county_number(x,y):\n",
    "    storelist=list(countynumdict.keys())\n",
    "    if (pd.isna(x)) and (y in storelist):\n",
    "        return countynumdict[y]\n",
    "    else:\n",
    "        return x\n",
    "def get_city(x,y):\n",
    "    storelist=list(citydict.keys())\n",
    "    if (pd.isna(x)) and (y in storelist):\n",
    "        return citydict[y]\n",
    "    else:\n",
    "        return x\n",
    "def get_vendor_name(x,y):\n",
    "    storelist=list(vennumnadict.keys())\n",
    "    if (pd.isna(x)) and (y in storelist):\n",
    "        return vennumnadict[y]\n",
    "    else:\n",
    "        return x\n",
    "def get_vendor_number(x,y):\n",
    "    storelist=list(vennumdict.keys())\n",
    "    if (pd.isna(x)) and (y in storelist):\n",
    "        return vennumdict[y]\n",
    "    else:\n",
    "        return x"
   ]
  },
  {
   "cell_type": "code",
   "execution_count": 10,
   "id": "db2078af",
   "metadata": {},
   "outputs": [
    {
     "name": "stdout",
     "output_type": "stream",
     "text": [
      "12\n",
      "13\n",
      "14\n",
      "15\n",
      "16\n",
      "17\n"
     ]
    }
   ],
   "source": [
    "#Looping all 6 parts through all maps to reduce nans in all categories\n",
    "listof6 = (y12,y13,y14,y15,y16,y17)\n",
    "counter = 12\n",
    "for i in listof6:\n",
    "    print(counter)\n",
    "    counter+=1\n",
    "    i['Address']=list(map(get_address,i['Address'],i['Store Number']))\n",
    "    i['Store Location']=list(map(get_store_location,i['Store Location'],i['Store Number']))\n",
    "    i['Zip Code']=list(map(get_zip,i['Zip Code'],i['Store Number']))\n",
    "    i['County']=list(map(get_county,i['County'],i['Store Number']))\n",
    "    i['County']=list(map(county_name,i['County'],i['City']))\n",
    "    i['County Number']=list(map(get_county_number,i['County Number'],i['Store Number']))\n",
    "    i['County Number']=list(map(county_name,i['County Number'],i['City']))\n",
    "    i['City']=list(map(get_city,i['City'],i['Store Number']))\n",
    "    i['Category']=list(map(category,i['Category'],i['Item Description']))\n",
    "    i['Category']=list(map(get_category,i['Category'],i['Item Description']))\n",
    "    i['Category Name']=list(map(category_name,i['Category Name'],i['Item Description']))\n",
    "    i['Category Name']=list(map(get_category_name,i['Category Name'],i['Item Description']))\n",
    "    i['Vendor Name']=list(map(get_vendor_name,i['Vendor Name'],i['Item Description']))\n",
    "    i['Vendor Number']=list(map(get_vendor_number,i['Vendor Number'],i['Item Description']))"
   ]
  },
  {
   "cell_type": "code",
   "execution_count": 7,
   "id": "beb89f06",
   "metadata": {},
   "outputs": [
    {
     "name": "stdout",
     "output_type": "stream",
     "text": [
      "Unnamed: 0                  0\n",
      "Invoice/Item Number         0\n",
      "Date                        0\n",
      "Store Number                0\n",
      "Store Name                  0\n",
      "Address                     0\n",
      "City                        0\n",
      "Zip Code                    0\n",
      "Store Location              0\n",
      "County Number            3599\n",
      "County                   3599\n",
      "Category                  284\n",
      "Category Name             822\n",
      "Vendor Number               0\n",
      "Vendor Name                 0\n",
      "Item Number                 0\n",
      "Item Description            0\n",
      "Pack                        0\n",
      "Bottle Volume (ml)          0\n",
      "State Bottle Cost          10\n",
      "State Bottle Retail        10\n",
      "Bottles Sold                0\n",
      "Sale (Dollars)             10\n",
      "Volume Sold (Liters)        0\n",
      "Volume Sold (Gallons)       0\n",
      "Year                        0\n",
      "dtype: int64\n",
      "Unnamed: 0                  0\n",
      "Invoice/Item Number         0\n",
      "Date                        0\n",
      "Store Number                0\n",
      "Store Name                  0\n",
      "Address                     0\n",
      "City                        0\n",
      "Zip Code                    0\n",
      "Store Location              0\n",
      "County Number            2660\n",
      "County                   2660\n",
      "Category                  298\n",
      "Category Name             810\n",
      "Vendor Number               0\n",
      "Vendor Name                 0\n",
      "Item Number                 0\n",
      "Item Description            0\n",
      "Pack                        0\n",
      "Bottle Volume (ml)          0\n",
      "State Bottle Cost           0\n",
      "State Bottle Retail         0\n",
      "Bottles Sold                0\n",
      "Sale (Dollars)              0\n",
      "Volume Sold (Liters)        0\n",
      "Volume Sold (Gallons)       0\n",
      "Year                        0\n",
      "dtype: int64\n",
      "Unnamed: 0                  0\n",
      "Invoice/Item Number         0\n",
      "Date                        0\n",
      "Store Number                0\n",
      "Store Name                  0\n",
      "Address                     0\n",
      "City                        0\n",
      "Zip Code                    0\n",
      "Store Location              0\n",
      "County Number            1054\n",
      "County                   1054\n",
      "Category                  480\n",
      "Category Name            1057\n",
      "Vendor Number               0\n",
      "Vendor Name                 0\n",
      "Item Number                 0\n",
      "Item Description            0\n",
      "Pack                        0\n",
      "Bottle Volume (ml)          0\n",
      "State Bottle Cost           0\n",
      "State Bottle Retail         0\n",
      "Bottles Sold                0\n",
      "Sale (Dollars)              0\n",
      "Volume Sold (Liters)        0\n",
      "Volume Sold (Gallons)       0\n",
      "Year                        0\n",
      "dtype: int64\n",
      "Unnamed: 0                  0\n",
      "Invoice/Item Number         0\n",
      "Date                        0\n",
      "Store Number                0\n",
      "Store Name                  0\n",
      "Address                     0\n",
      "City                        0\n",
      "Zip Code                    0\n",
      "Store Location              0\n",
      "County Number            1119\n",
      "County                   1119\n",
      "Category                  773\n",
      "Category Name            1462\n",
      "Vendor Number               0\n",
      "Vendor Name                 0\n",
      "Item Number                 0\n",
      "Item Description            0\n",
      "Pack                        0\n",
      "Bottle Volume (ml)          0\n",
      "State Bottle Cost           0\n",
      "State Bottle Retail         0\n",
      "Bottles Sold                0\n",
      "Sale (Dollars)              0\n",
      "Volume Sold (Liters)        0\n",
      "Volume Sold (Gallons)       0\n",
      "Year                        0\n",
      "dtype: int64\n",
      "Unnamed: 0                   0\n",
      "Invoice/Item Number          0\n",
      "Date                         0\n",
      "Store Number                 0\n",
      "Store Name                   0\n",
      "Address                    965\n",
      "City                       965\n",
      "Zip Code                  1010\n",
      "Store Location             965\n",
      "County Number            69336\n",
      "County                   69336\n",
      "Category                   350\n",
      "Category Name             6100\n",
      "Vendor Number                2\n",
      "Vendor Name                  0\n",
      "Item Number                  0\n",
      "Item Description             0\n",
      "Pack                         0\n",
      "Bottle Volume (ml)           0\n",
      "State Bottle Cost            0\n",
      "State Bottle Retail          0\n",
      "Bottles Sold                 0\n",
      "Sale (Dollars)               0\n",
      "Volume Sold (Liters)         0\n",
      "Volume Sold (Gallons)        0\n",
      "Year                         0\n",
      "dtype: int64\n",
      "Unnamed: 0                  0\n",
      "Invoice/Item Number         0\n",
      "Date                        0\n",
      "Store Number                0\n",
      "Store Name                  0\n",
      "Address                  1411\n",
      "City                     1410\n",
      "Zip Code                 1410\n",
      "Store Location           1410\n",
      "County Number            1410\n",
      "County                   1410\n",
      "Category                 5835\n",
      "Category Name            5835\n",
      "Vendor Number               1\n",
      "Vendor Name                 1\n",
      "Item Number                 0\n",
      "Item Description            0\n",
      "Pack                        0\n",
      "Bottle Volume (ml)          0\n",
      "State Bottle Cost           0\n",
      "State Bottle Retail         0\n",
      "Bottles Sold                0\n",
      "Sale (Dollars)              0\n",
      "Volume Sold (Liters)        0\n",
      "Volume Sold (Gallons)       0\n",
      "Year                        0\n",
      "dtype: int64\n"
     ]
    }
   ],
   "source": [
    "# Original printout of nans in raw data\n",
    "listof6 = (y12,y13,y14,y15,y16,y17)\n",
    "for i in listof6:\n",
    "    print(i.isna().sum())"
   ]
  },
  {
   "cell_type": "code",
   "execution_count": 11,
   "id": "3bf77db6",
   "metadata": {
    "scrolled": true
   },
   "outputs": [
    {
     "name": "stdout",
     "output_type": "stream",
     "text": [
      "Unnamed: 0                0\n",
      "Invoice/Item Number       0\n",
      "Date                      0\n",
      "Store Number              0\n",
      "Store Name                0\n",
      "Address                   0\n",
      "City                      0\n",
      "Zip Code                  0\n",
      "Store Location            0\n",
      "County Number             0\n",
      "County                    0\n",
      "Category                  0\n",
      "Category Name             0\n",
      "Vendor Number             0\n",
      "Vendor Name               0\n",
      "Item Number               0\n",
      "Item Description          0\n",
      "Pack                      0\n",
      "Bottle Volume (ml)        0\n",
      "State Bottle Cost        10\n",
      "State Bottle Retail      10\n",
      "Bottles Sold              0\n",
      "Sale (Dollars)           10\n",
      "Volume Sold (Liters)      0\n",
      "Volume Sold (Gallons)     0\n",
      "Year                      0\n",
      "dtype: int64\n",
      "Unnamed: 0               0\n",
      "Invoice/Item Number      0\n",
      "Date                     0\n",
      "Store Number             0\n",
      "Store Name               0\n",
      "Address                  0\n",
      "City                     0\n",
      "Zip Code                 0\n",
      "Store Location           0\n",
      "County Number            0\n",
      "County                   0\n",
      "Category                 0\n",
      "Category Name            0\n",
      "Vendor Number            0\n",
      "Vendor Name              0\n",
      "Item Number              0\n",
      "Item Description         0\n",
      "Pack                     0\n",
      "Bottle Volume (ml)       0\n",
      "State Bottle Cost        0\n",
      "State Bottle Retail      0\n",
      "Bottles Sold             0\n",
      "Sale (Dollars)           0\n",
      "Volume Sold (Liters)     0\n",
      "Volume Sold (Gallons)    0\n",
      "Year                     0\n",
      "dtype: int64\n",
      "Unnamed: 0               0\n",
      "Invoice/Item Number      0\n",
      "Date                     0\n",
      "Store Number             0\n",
      "Store Name               0\n",
      "Address                  0\n",
      "City                     0\n",
      "Zip Code                 0\n",
      "Store Location           0\n",
      "County Number            0\n",
      "County                   0\n",
      "Category                 0\n",
      "Category Name            0\n",
      "Vendor Number            0\n",
      "Vendor Name              0\n",
      "Item Number              0\n",
      "Item Description         0\n",
      "Pack                     0\n",
      "Bottle Volume (ml)       0\n",
      "State Bottle Cost        0\n",
      "State Bottle Retail      0\n",
      "Bottles Sold             0\n",
      "Sale (Dollars)           0\n",
      "Volume Sold (Liters)     0\n",
      "Volume Sold (Gallons)    0\n",
      "Year                     0\n",
      "dtype: int64\n",
      "Unnamed: 0                 0\n",
      "Invoice/Item Number        0\n",
      "Date                       0\n",
      "Store Number               0\n",
      "Store Name                 0\n",
      "Address                    0\n",
      "City                       0\n",
      "Zip Code                   0\n",
      "Store Location             0\n",
      "County Number              0\n",
      "County                     0\n",
      "Category                 177\n",
      "Category Name            223\n",
      "Vendor Number              0\n",
      "Vendor Name                0\n",
      "Item Number                0\n",
      "Item Description           0\n",
      "Pack                       0\n",
      "Bottle Volume (ml)         0\n",
      "State Bottle Cost          0\n",
      "State Bottle Retail        0\n",
      "Bottles Sold               0\n",
      "Sale (Dollars)             0\n",
      "Volume Sold (Liters)       0\n",
      "Volume Sold (Gallons)      0\n",
      "Year                       0\n",
      "dtype: int64\n",
      "Unnamed: 0                 0\n",
      "Invoice/Item Number        0\n",
      "Date                       0\n",
      "Store Number               0\n",
      "Store Name                 0\n",
      "Address                    0\n",
      "City                       0\n",
      "Zip Code                   0\n",
      "Store Location             0\n",
      "County Number            797\n",
      "County                   797\n",
      "Category                   8\n",
      "Category Name            124\n",
      "Vendor Number              2\n",
      "Vendor Name                0\n",
      "Item Number                0\n",
      "Item Description           0\n",
      "Pack                       0\n",
      "Bottle Volume (ml)         0\n",
      "State Bottle Cost          0\n",
      "State Bottle Retail        0\n",
      "Bottles Sold               0\n",
      "Sale (Dollars)             0\n",
      "Volume Sold (Liters)       0\n",
      "Volume Sold (Gallons)      0\n",
      "Year                       0\n",
      "dtype: int64\n",
      "Unnamed: 0                 0\n",
      "Invoice/Item Number        0\n",
      "Date                       0\n",
      "Store Number               0\n",
      "Store Name                 0\n",
      "Address                    1\n",
      "City                       0\n",
      "Zip Code                   0\n",
      "Store Location             0\n",
      "County Number              0\n",
      "County                     0\n",
      "Category                 826\n",
      "Category Name            826\n",
      "Vendor Number              0\n",
      "Vendor Name                0\n",
      "Item Number                0\n",
      "Item Description           0\n",
      "Pack                       0\n",
      "Bottle Volume (ml)         0\n",
      "State Bottle Cost          0\n",
      "State Bottle Retail        0\n",
      "Bottles Sold               0\n",
      "Sale (Dollars)             0\n",
      "Volume Sold (Liters)       0\n",
      "Volume Sold (Gallons)      0\n",
      "Year                       0\n",
      "dtype: int64\n"
     ]
    }
   ],
   "source": [
    "# Final Product\n",
    "listof6 = (y12,y13,y14,y15,y16,y17)\n",
    "for i in listof6:\n",
    "    print(i.isna().sum())"
   ]
  },
  {
   "cell_type": "markdown",
   "id": "d8e36b1e",
   "metadata": {},
   "source": [
    "## 4. Trimming clean code (og 4th look)"
   ]
  },
  {
   "cell_type": "code",
   "execution_count": null,
   "id": "a2cce04b",
   "metadata": {},
   "outputs": [],
   "source": [
    "y12.to_csv('cleany12.csv')\n",
    "y13.to_csv('cleany13.csv')\n",
    "y14.to_csv('cleany14.csv')\n",
    "y15.to_csv('cleany15.csv')\n",
    "y16.to_csv('cleany16.csv')\n",
    "y17.to_csv('cleany17.csv')"
   ]
  },
  {
   "cell_type": "code",
   "execution_count": null,
   "id": "6eed94fa",
   "metadata": {},
   "outputs": [],
   "source": [
    "c12=pd.read_csv('C://Users//Owner//DA//Classwork//0 Activities//Final_Project//Final Cuts//desmoines//cleany12.csv')\n",
    "c13=pd.read_csv('C://Users//Owner//DA//Classwork//0 Activities//Final_Project//Final Cuts//desmoines//cleany13.csv')\n",
    "c14=pd.read_csv('C://Users//Owner//DA//Classwork//0 Activities//Final_Project//Final Cuts//desmoines//cleany14.csv')\n",
    "c15=pd.read_csv('C://Users//Owner//DA//Classwork//0 Activities//Final_Project//Final Cuts//desmoines//cleany15.csv')\n",
    "c16=pd.read_csv('C://Users//Owner//DA//Classwork//0 Activities//Final_Project//Final Cuts//desmoines//cleany16.csv')\n",
    "c17=pd.read_csv('C://Users//Owner//DA//Classwork//0 Activities//Final_Project//Final Cuts//desmoines//cleany17.csv')"
   ]
  },
  {
   "cell_type": "code",
   "execution_count": null,
   "id": "32786efa",
   "metadata": {},
   "outputs": [],
   "source": [
    "testc12= c12\n",
    "testc12.columns"
   ]
  },
  {
   "cell_type": "code",
   "execution_count": null,
   "id": "b54b30d1",
   "metadata": {},
   "outputs": [],
   "source": [
    "testc12=testc12.drop([''],axis=1)\n",
    "#c12=c12.drop(['Unnamed: 0','Unnamed: 0.1','Invoice/Item Number','Store Name','Address','City','Zip Code', 'Store Location','County Number','County','Category','Vendor Name','Volume Sold (Gallons)','Year'] ,axis=1)"
   ]
  },
  {
   "cell_type": "code",
   "execution_count": null,
   "id": "10f69d96",
   "metadata": {},
   "outputs": [],
   "source": [
    "#confirm dtypes after\n",
    "c13['Date']=pd.to_datetime(c13['Date'])\n",
    "c13['Vendor Number']=c13['Vendor Number'].astype(str)\n",
    "c13['Store Number']=c13['Store Number'].astype(str)\n",
    "c13['Item Number']=c13['Item Number'].astype(str)\n",
    "c13['State Bottle Cost']=list(map(lambda x:x[1:],c13['State Bottle Cost']))\n",
    "c13['State Bottle Cost']=pd.to_numeric(c13['State Bottle Cost'])\n",
    "c13['State Bottle Retail']=list(map(lambda x:x[1:],c13['State Bottle Retail']))\n",
    "c13['State Bottle Retail']=pd.to_numeric(c13['State Bottle Retail'])\n",
    "c13['Sale (Dollars)']=list(map(lambda x:x[1:],c13['Sale (Dollars)']))\n",
    "c13['Sale (Dollars)']=pd.to_numeric(c13['Sale (Dollars)'])"
   ]
  }
 ],
 "metadata": {
  "kernelspec": {
   "display_name": "Python 3 (ipykernel)",
   "language": "python",
   "name": "python3"
  },
  "language_info": {
   "codemirror_mode": {
    "name": "ipython",
    "version": 3
   },
   "file_extension": ".py",
   "mimetype": "text/x-python",
   "name": "python",
   "nbconvert_exporter": "python",
   "pygments_lexer": "ipython3",
   "version": "3.9.7"
  }
 },
 "nbformat": 4,
 "nbformat_minor": 5
}
